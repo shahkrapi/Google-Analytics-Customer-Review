{
 "cells": [
  {
   "cell_type": "code",
   "execution_count": 1,
   "metadata": {},
   "outputs": [],
   "source": [
    "import os\n",
    "import json\n",
    "import numpy as np\n",
    "import pandas as pd\n",
    "from pandas.io.json import json_normalize\n",
    "def load_df(csv_path='../input/train.csv', nrows=None):\n",
    "    JSON_COLUMNS = ['device', 'geoNetwork', 'totals', 'trafficSource']\n",
    "    \n",
    "    df = pd.read_csv(csv_path, dtype={'fullVisitorId': 'str'},converters={column: json.loads for column in JSON_COLUMNS})\n",
    "    \n",
    "    for each in JSON_COLUMNS:\n",
    "        column_as_df = json_normalize(df[each])\n",
    "        keys_ = column_as_df.keys()\n",
    "        new_col_names = [each+\".\"+subkey for subkey in keys_]\n",
    "        i=0\n",
    "        \n",
    "        for x in keys_:\n",
    "            col = column_as_df[x]\n",
    "            df[new_col_names[i]] = pd.Series(col)\n",
    "            i=i+1\n",
    "    return df\n",
    "   \n",
    "    "
   ]
  },
  {
   "cell_type": "code",
   "execution_count": 2,
   "metadata": {},
   "outputs": [],
   "source": [
    "data =load_df(\"train.csv\")"
   ]
  },
  {
   "cell_type": "code",
   "execution_count": 3,
   "metadata": {},
   "outputs": [
    {
     "data": {
      "text/plain": [
       "(903653, 59)"
      ]
     },
     "execution_count": 3,
     "metadata": {},
     "output_type": "execute_result"
    }
   ],
   "source": [
    "data.shape"
   ]
  },
  {
   "cell_type": "code",
   "execution_count": 4,
   "metadata": {},
   "outputs": [
    {
     "data": {
      "text/plain": [
       "Index(['channelGrouping', 'date', 'device', 'fullVisitorId', 'geoNetwork',\n",
       "       'sessionId', 'socialEngagementType', 'totals', 'trafficSource',\n",
       "       'visitId', 'visitNumber', 'visitStartTime', 'device.browser',\n",
       "       'device.browserSize', 'device.browserVersion', 'device.deviceCategory',\n",
       "       'device.flashVersion', 'device.isMobile', 'device.language',\n",
       "       'device.mobileDeviceBranding', 'device.mobileDeviceInfo',\n",
       "       'device.mobileDeviceMarketingName', 'device.mobileDeviceModel',\n",
       "       'device.mobileInputSelector', 'device.operatingSystem',\n",
       "       'device.operatingSystemVersion', 'device.screenColors',\n",
       "       'device.screenResolution', 'geoNetwork.city', 'geoNetwork.cityId',\n",
       "       'geoNetwork.continent', 'geoNetwork.country', 'geoNetwork.latitude',\n",
       "       'geoNetwork.longitude', 'geoNetwork.metro', 'geoNetwork.networkDomain',\n",
       "       'geoNetwork.networkLocation', 'geoNetwork.region',\n",
       "       'geoNetwork.subContinent', 'totals.bounces', 'totals.hits',\n",
       "       'totals.newVisits', 'totals.pageviews', 'totals.transactionRevenue',\n",
       "       'totals.visits', 'trafficSource.adContent',\n",
       "       'trafficSource.adwordsClickInfo.adNetworkType',\n",
       "       'trafficSource.adwordsClickInfo.criteriaParameters',\n",
       "       'trafficSource.adwordsClickInfo.gclId',\n",
       "       'trafficSource.adwordsClickInfo.isVideoAd',\n",
       "       'trafficSource.adwordsClickInfo.page',\n",
       "       'trafficSource.adwordsClickInfo.slot', 'trafficSource.campaign',\n",
       "       'trafficSource.campaignCode', 'trafficSource.isTrueDirect',\n",
       "       'trafficSource.keyword', 'trafficSource.medium',\n",
       "       'trafficSource.referralPath', 'trafficSource.source'],\n",
       "      dtype='object')"
      ]
     },
     "execution_count": 4,
     "metadata": {},
     "output_type": "execute_result"
    }
   ],
   "source": [
    "data.columns"
   ]
  },
  {
   "cell_type": "code",
   "execution_count": 5,
   "metadata": {},
   "outputs": [],
   "source": [
    "data = data.drop('device',axis=1)\n",
    "data = data.drop('geoNetwork',axis=1)\n",
    "data = data.drop('totals',axis=1)\n",
    "data=data.drop('trafficSource',axis=1)\n"
   ]
  },
  {
   "cell_type": "code",
   "execution_count": 183,
   "metadata": {},
   "outputs": [],
   "source": [
    "testData = load_df(\"test.csv\")"
   ]
  },
  {
   "cell_type": "code",
   "execution_count": 184,
   "metadata": {},
   "outputs": [],
   "source": [
    "testData = testData.drop('geoNetwork',axis=1)\n",
    "testData = testData.drop('totals',axis=1)\n",
    "testData=testData.drop('trafficSource',axis=1)\n",
    "testData =testData.drop('device',axis=1)"
   ]
  },
  {
   "cell_type": "code",
   "execution_count": 8,
   "metadata": {},
   "outputs": [
    {
     "name": "stdout",
     "output_type": "stream",
     "text": [
      "Missing Values Percentage ..........\n",
      "\n",
      "totals.bounces\t50.13\n",
      "totals.newVisits\t22.2\n",
      "totals.pageviews\t0.01\n",
      "totals.transactionRevenue\t98.73\n",
      "trafficSource.adContent\t98.79\n",
      "trafficSource.adwordsClickInfo.adNetworkType\t97.63\n",
      "trafficSource.adwordsClickInfo.gclId\t97.61\n",
      "trafficSource.adwordsClickInfo.isVideoAd\t97.63\n",
      "trafficSource.adwordsClickInfo.page\t97.63\n",
      "trafficSource.adwordsClickInfo.slot\t97.63\n",
      "trafficSource.campaignCode\t100.0\n",
      "trafficSource.isTrueDirect\t69.68\n",
      "trafficSource.keyword\t55.66\n",
      "trafficSource.referralPath\t63.38\n",
      "Total Columns : 14\n"
     ]
    }
   ],
   "source": [
    "print(\"Missing Values Percentage ..........\\n\")\n",
    "tot_cols = 0\n",
    "for each in data.columns :\n",
    "    count=data[each].isnull().sum()\n",
    "    if count>0:\n",
    "        print (each + \"\\t\"+str(round((count/data.shape[0]*100.0),2)))\n",
    "        tot_cols = tot_cols+1\n",
    "print (\"Total Columns : \" + str(tot_cols))"
   ]
  },
  {
   "cell_type": "code",
   "execution_count": 9,
   "metadata": {},
   "outputs": [],
   "source": [
    "data = data.drop('trafficSource.campaignCode',axis=1)"
   ]
  },
  {
   "cell_type": "code",
   "execution_count": 10,
   "metadata": {},
   "outputs": [
    {
     "name": "stdout",
     "output_type": "stream",
     "text": [
      "socialEngagementType\n",
      "['Not Socially Engaged']\n",
      "device.browserSize\n",
      "['not available in demo dataset']\n",
      "device.browserVersion\n",
      "['not available in demo dataset']\n",
      "device.flashVersion\n",
      "['not available in demo dataset']\n",
      "device.isMobile\n",
      "[False  True]\n",
      "device.language\n",
      "['not available in demo dataset']\n",
      "device.mobileDeviceBranding\n",
      "['not available in demo dataset']\n",
      "device.mobileDeviceInfo\n",
      "['not available in demo dataset']\n",
      "device.mobileDeviceMarketingName\n",
      "['not available in demo dataset']\n",
      "device.mobileDeviceModel\n",
      "['not available in demo dataset']\n",
      "device.mobileInputSelector\n",
      "['not available in demo dataset']\n",
      "device.operatingSystemVersion\n",
      "['not available in demo dataset']\n",
      "device.screenColors\n",
      "['not available in demo dataset']\n",
      "device.screenResolution\n",
      "['not available in demo dataset']\n",
      "geoNetwork.cityId\n",
      "['not available in demo dataset']\n",
      "geoNetwork.latitude\n",
      "['not available in demo dataset']\n",
      "geoNetwork.longitude\n",
      "['not available in demo dataset']\n",
      "geoNetwork.networkLocation\n",
      "['not available in demo dataset']\n",
      "totals.bounces\n",
      "['1' nan]\n",
      "totals.newVisits\n",
      "['1' nan]\n",
      "totals.visits\n",
      "['1']\n",
      "trafficSource.adwordsClickInfo.criteriaParameters\n",
      "['not available in demo dataset']\n",
      "trafficSource.adwordsClickInfo.isVideoAd\n",
      "[nan False]\n",
      "trafficSource.isTrueDirect\n",
      "[nan True]\n",
      "Total Constant Columns : 24\n"
     ]
    }
   ],
   "source": [
    "tot_cols = 0\n",
    "const_cols=[]\n",
    "for each in data.columns:\n",
    "    count=data[each].nunique(dropna=False)\n",
    "    if(count < 3):\n",
    "        print (each)\n",
    "        print(data[each].unique())\n",
    "        tot_cols = tot_cols +1\n",
    "        const_cols.append(each)\n",
    "print (\"Total Constant Columns : \" + str(tot_cols))"
   ]
  },
  {
   "cell_type": "code",
   "execution_count": 11,
   "metadata": {},
   "outputs": [],
   "source": [
    "const_cols.remove('device.isMobile')"
   ]
  },
  {
   "cell_type": "code",
   "execution_count": 12,
   "metadata": {},
   "outputs": [],
   "source": [
    "device_cols=[x for x in data if x.startswith('device')]\n",
    "geoNetwork_col=[x for x in data if x.startswith('geoNetwork')]\n",
    "trafficSource_cols=[x for x in data if x.startswith('trafficSource')]\n",
    "totals_cols=[x for x in data if x.startswith('totals')]"
   ]
  },
  {
   "cell_type": "code",
   "execution_count": 185,
   "metadata": {},
   "outputs": [],
   "source": [
    "data[totals_cols]=data[totals_cols].astype(float)\n",
    "test_totals_cols=[x for x in testData.columns if x.startswith('totals')]\n",
    "testData[test_totals_cols]=testData[test_totals_cols].astype(float)"
   ]
  },
  {
   "cell_type": "code",
   "execution_count": 186,
   "metadata": {},
   "outputs": [],
   "source": [
    "ids=['fullVisitorId','sessionId','visitId']\n",
    "data[ids]=data[ids].astype(str)\n",
    "testData[ids]=testData[ids].astype(str)"
   ]
  },
  {
   "cell_type": "code",
   "execution_count": 15,
   "metadata": {},
   "outputs": [],
   "source": [
    "data['date'] = data['date'].astype(str)\n",
    "data[\"date\"] = data[\"date\"].apply(lambda x : x[:4] + \"-\" + x[4:6] + \"-\" + x[6:])\n",
    "data[\"date\"] = pd.to_datetime(data[\"date\"])\n",
    "data[\"month\"]   = data['date'].dt.month\n",
    "data[\"day\"]     = data['date'].dt.day\n",
    "data[\"weekday\"] = data['date'].dt.weekday\n",
    "data['year'] = data['date'].dt.year\n"
   ]
  },
  {
   "cell_type": "code",
   "execution_count": 187,
   "metadata": {},
   "outputs": [],
   "source": [
    "testData['date'] = testData['date'].astype(str)\n",
    "testData[\"date\"] = testData[\"date\"].apply(lambda x : x[:4] + \"-\" + x[4:6] + \"-\" + x[6:])\n",
    "testData[\"date\"] = pd.to_datetime(testData[\"date\"])\n",
    "testData[\"month\"]   = testData['date'].dt.month\n",
    "testData[\"day\"]     = testData['date'].dt.day\n",
    "testData[\"weekday\"] = testData['date'].dt.weekday\n",
    "testData['year'] = testData['date'].dt.year"
   ]
  },
  {
   "cell_type": "code",
   "execution_count": 17,
   "metadata": {},
   "outputs": [],
   "source": [
    "cat_cols=[]\n",
    "cat_cols = device_cols+geoNetwork_col+trafficSource_cols\n",
    "cat_cols.append('channelGrouping')\n"
   ]
  },
  {
   "cell_type": "code",
   "execution_count": 188,
   "metadata": {},
   "outputs": [],
   "source": [
    "# data['totals.bounces'].fillna(0,inplace=True)\n",
    "# data['totals.hits'].fillna(0,inplace=True)\n",
    "# data['totals.pageviews'].fillna(0,inplace=True)\n",
    "# data['totals.transactionRevenue'].fillna(0,inplace=True)\n",
    "# data['totals.newVisits'].fillna(0,inplace=True)\n",
    "# data['totals.visits'].fillna(0,inplace=True)\n",
    "testData['totals.pageviews'].fillna(0,inplace=True)\n",
    "testData['totals.hits'].fillna(0,inplace=True)\n",
    "testData['totals.bounces'].fillna(0,inplace=True)\n",
    "testData['totals.newVisits'].fillna(0,inplace=True)\n",
    "testData['totals.visits'].fillna(0,inplace=True)"
   ]
  },
  {
   "cell_type": "code",
   "execution_count": 19,
   "metadata": {},
   "outputs": [],
   "source": [
    "data.loc[data['totals.transactionRevenue']> 0.0 , 'isBuy'] = 1\n",
    "data.loc[data['totals.transactionRevenue'] == 0.0, 'isBuy'] = 0"
   ]
  },
  {
   "cell_type": "code",
   "execution_count": 89,
   "metadata": {},
   "outputs": [],
   "source": [
    "features=[x  for x in data.columns if x not in const_cols+ids]"
   ]
  },
  {
   "cell_type": "code",
   "execution_count": 21,
   "metadata": {},
   "outputs": [
    {
     "data": {
      "text/html": [
       "<div>\n",
       "<style scoped>\n",
       "    .dataframe tbody tr th:only-of-type {\n",
       "        vertical-align: middle;\n",
       "    }\n",
       "\n",
       "    .dataframe tbody tr th {\n",
       "        vertical-align: top;\n",
       "    }\n",
       "\n",
       "    .dataframe thead th {\n",
       "        text-align: right;\n",
       "    }\n",
       "</style>\n",
       "<table border=\"1\" class=\"dataframe\">\n",
       "  <thead>\n",
       "    <tr style=\"text-align: right;\">\n",
       "      <th></th>\n",
       "      <th>visitNumber</th>\n",
       "      <th>visitStartTime</th>\n",
       "      <th>device.isMobile</th>\n",
       "      <th>totals.hits</th>\n",
       "      <th>totals.pageviews</th>\n",
       "      <th>totals.transactionRevenue</th>\n",
       "      <th>month</th>\n",
       "      <th>day</th>\n",
       "      <th>weekday</th>\n",
       "      <th>year</th>\n",
       "      <th>isBuy</th>\n",
       "    </tr>\n",
       "  </thead>\n",
       "  <tbody>\n",
       "    <tr>\n",
       "      <th>visitNumber</th>\n",
       "      <td>1.000000</td>\n",
       "      <td>0.002069</td>\n",
       "      <td>-0.037667</td>\n",
       "      <td>0.041317</td>\n",
       "      <td>0.043332</td>\n",
       "      <td>0.051366</td>\n",
       "      <td>-0.011275</td>\n",
       "      <td>-0.002789</td>\n",
       "      <td>-0.020131</td>\n",
       "      <td>0.007876</td>\n",
       "      <td>0.022251</td>\n",
       "    </tr>\n",
       "    <tr>\n",
       "      <th>visitStartTime</th>\n",
       "      <td>0.002069</td>\n",
       "      <td>1.000000</td>\n",
       "      <td>0.144332</td>\n",
       "      <td>-0.027701</td>\n",
       "      <td>-0.022262</td>\n",
       "      <td>0.002724</td>\n",
       "      <td>-0.502336</td>\n",
       "      <td>0.065540</td>\n",
       "      <td>0.001757</td>\n",
       "      <td>0.863070</td>\n",
       "      <td>0.010937</td>\n",
       "    </tr>\n",
       "    <tr>\n",
       "      <th>device.isMobile</th>\n",
       "      <td>-0.037667</td>\n",
       "      <td>0.144332</td>\n",
       "      <td>1.000000</td>\n",
       "      <td>-0.030367</td>\n",
       "      <td>-0.030180</td>\n",
       "      <td>-0.016555</td>\n",
       "      <td>-0.106979</td>\n",
       "      <td>0.001725</td>\n",
       "      <td>0.078937</td>\n",
       "      <td>0.144849</td>\n",
       "      <td>-0.045337</td>\n",
       "    </tr>\n",
       "    <tr>\n",
       "      <th>totals.hits</th>\n",
       "      <td>0.041317</td>\n",
       "      <td>-0.027701</td>\n",
       "      <td>-0.030367</td>\n",
       "      <td>1.000000</td>\n",
       "      <td>0.983201</td>\n",
       "      <td>0.154333</td>\n",
       "      <td>0.003124</td>\n",
       "      <td>-0.005031</td>\n",
       "      <td>-0.011682</td>\n",
       "      <td>-0.017502</td>\n",
       "      <td>0.373274</td>\n",
       "    </tr>\n",
       "    <tr>\n",
       "      <th>totals.pageviews</th>\n",
       "      <td>0.043332</td>\n",
       "      <td>-0.022262</td>\n",
       "      <td>-0.030180</td>\n",
       "      <td>0.983201</td>\n",
       "      <td>1.000000</td>\n",
       "      <td>0.155589</td>\n",
       "      <td>-0.002312</td>\n",
       "      <td>-0.004807</td>\n",
       "      <td>-0.012453</td>\n",
       "      <td>-0.011248</td>\n",
       "      <td>0.395914</td>\n",
       "    </tr>\n",
       "    <tr>\n",
       "      <th>totals.transactionRevenue</th>\n",
       "      <td>0.051366</td>\n",
       "      <td>0.002724</td>\n",
       "      <td>-0.016555</td>\n",
       "      <td>0.154333</td>\n",
       "      <td>0.155589</td>\n",
       "      <td>1.000000</td>\n",
       "      <td>-0.002849</td>\n",
       "      <td>0.000561</td>\n",
       "      <td>-0.007812</td>\n",
       "      <td>0.003194</td>\n",
       "      <td>0.284227</td>\n",
       "    </tr>\n",
       "    <tr>\n",
       "      <th>month</th>\n",
       "      <td>-0.011275</td>\n",
       "      <td>-0.502336</td>\n",
       "      <td>-0.106979</td>\n",
       "      <td>0.003124</td>\n",
       "      <td>-0.002312</td>\n",
       "      <td>-0.002849</td>\n",
       "      <td>1.000000</td>\n",
       "      <td>-0.016556</td>\n",
       "      <td>0.008059</td>\n",
       "      <td>-0.868272</td>\n",
       "      <td>-0.002619</td>\n",
       "    </tr>\n",
       "    <tr>\n",
       "      <th>day</th>\n",
       "      <td>-0.002789</td>\n",
       "      <td>0.065540</td>\n",
       "      <td>0.001725</td>\n",
       "      <td>-0.005031</td>\n",
       "      <td>-0.004807</td>\n",
       "      <td>0.000561</td>\n",
       "      <td>-0.016556</td>\n",
       "      <td>1.000000</td>\n",
       "      <td>-0.018971</td>\n",
       "      <td>-0.001131</td>\n",
       "      <td>-0.000760</td>\n",
       "    </tr>\n",
       "    <tr>\n",
       "      <th>weekday</th>\n",
       "      <td>-0.020131</td>\n",
       "      <td>0.001757</td>\n",
       "      <td>0.078937</td>\n",
       "      <td>-0.011682</td>\n",
       "      <td>-0.012453</td>\n",
       "      <td>-0.007812</td>\n",
       "      <td>0.008059</td>\n",
       "      <td>-0.018971</td>\n",
       "      <td>1.000000</td>\n",
       "      <td>-0.002786</td>\n",
       "      <td>-0.014319</td>\n",
       "    </tr>\n",
       "    <tr>\n",
       "      <th>year</th>\n",
       "      <td>0.007876</td>\n",
       "      <td>0.863070</td>\n",
       "      <td>0.144849</td>\n",
       "      <td>-0.017502</td>\n",
       "      <td>-0.011248</td>\n",
       "      <td>0.003194</td>\n",
       "      <td>-0.868272</td>\n",
       "      <td>-0.001131</td>\n",
       "      <td>-0.002786</td>\n",
       "      <td>1.000000</td>\n",
       "      <td>0.007835</td>\n",
       "    </tr>\n",
       "    <tr>\n",
       "      <th>isBuy</th>\n",
       "      <td>0.022251</td>\n",
       "      <td>0.010937</td>\n",
       "      <td>-0.045337</td>\n",
       "      <td>0.373274</td>\n",
       "      <td>0.395914</td>\n",
       "      <td>0.284227</td>\n",
       "      <td>-0.002619</td>\n",
       "      <td>-0.000760</td>\n",
       "      <td>-0.014319</td>\n",
       "      <td>0.007835</td>\n",
       "      <td>1.000000</td>\n",
       "    </tr>\n",
       "  </tbody>\n",
       "</table>\n",
       "</div>"
      ],
      "text/plain": [
       "                           visitNumber  visitStartTime  device.isMobile  \\\n",
       "visitNumber                   1.000000        0.002069        -0.037667   \n",
       "visitStartTime                0.002069        1.000000         0.144332   \n",
       "device.isMobile              -0.037667        0.144332         1.000000   \n",
       "totals.hits                   0.041317       -0.027701        -0.030367   \n",
       "totals.pageviews              0.043332       -0.022262        -0.030180   \n",
       "totals.transactionRevenue     0.051366        0.002724        -0.016555   \n",
       "month                        -0.011275       -0.502336        -0.106979   \n",
       "day                          -0.002789        0.065540         0.001725   \n",
       "weekday                      -0.020131        0.001757         0.078937   \n",
       "year                          0.007876        0.863070         0.144849   \n",
       "isBuy                         0.022251        0.010937        -0.045337   \n",
       "\n",
       "                           totals.hits  totals.pageviews  \\\n",
       "visitNumber                   0.041317          0.043332   \n",
       "visitStartTime               -0.027701         -0.022262   \n",
       "device.isMobile              -0.030367         -0.030180   \n",
       "totals.hits                   1.000000          0.983201   \n",
       "totals.pageviews              0.983201          1.000000   \n",
       "totals.transactionRevenue     0.154333          0.155589   \n",
       "month                         0.003124         -0.002312   \n",
       "day                          -0.005031         -0.004807   \n",
       "weekday                      -0.011682         -0.012453   \n",
       "year                         -0.017502         -0.011248   \n",
       "isBuy                         0.373274          0.395914   \n",
       "\n",
       "                           totals.transactionRevenue     month       day  \\\n",
       "visitNumber                                 0.051366 -0.011275 -0.002789   \n",
       "visitStartTime                              0.002724 -0.502336  0.065540   \n",
       "device.isMobile                            -0.016555 -0.106979  0.001725   \n",
       "totals.hits                                 0.154333  0.003124 -0.005031   \n",
       "totals.pageviews                            0.155589 -0.002312 -0.004807   \n",
       "totals.transactionRevenue                   1.000000 -0.002849  0.000561   \n",
       "month                                      -0.002849  1.000000 -0.016556   \n",
       "day                                         0.000561 -0.016556  1.000000   \n",
       "weekday                                    -0.007812  0.008059 -0.018971   \n",
       "year                                        0.003194 -0.868272 -0.001131   \n",
       "isBuy                                       0.284227 -0.002619 -0.000760   \n",
       "\n",
       "                            weekday      year     isBuy  \n",
       "visitNumber               -0.020131  0.007876  0.022251  \n",
       "visitStartTime             0.001757  0.863070  0.010937  \n",
       "device.isMobile            0.078937  0.144849 -0.045337  \n",
       "totals.hits               -0.011682 -0.017502  0.373274  \n",
       "totals.pageviews          -0.012453 -0.011248  0.395914  \n",
       "totals.transactionRevenue -0.007812  0.003194  0.284227  \n",
       "month                      0.008059 -0.868272 -0.002619  \n",
       "day                       -0.018971 -0.001131 -0.000760  \n",
       "weekday                    1.000000 -0.002786 -0.014319  \n",
       "year                      -0.002786  1.000000  0.007835  \n",
       "isBuy                     -0.014319  0.007835  1.000000  "
      ]
     },
     "execution_count": 21,
     "metadata": {},
     "output_type": "execute_result"
    }
   ],
   "source": [
    "data[features].corr()"
   ]
  },
  {
   "cell_type": "code",
   "execution_count": 22,
   "metadata": {},
   "outputs": [
    {
     "data": {
      "text/plain": [
       "channelGrouping                                              object\n",
       "date                                                 datetime64[ns]\n",
       "fullVisitorId                                                object\n",
       "sessionId                                                    object\n",
       "socialEngagementType                                         object\n",
       "visitId                                                      object\n",
       "visitNumber                                                   int64\n",
       "visitStartTime                                                int64\n",
       "device.browser                                               object\n",
       "device.browserSize                                           object\n",
       "device.browserVersion                                        object\n",
       "device.deviceCategory                                        object\n",
       "device.flashVersion                                          object\n",
       "device.isMobile                                                bool\n",
       "device.language                                              object\n",
       "device.mobileDeviceBranding                                  object\n",
       "device.mobileDeviceInfo                                      object\n",
       "device.mobileDeviceMarketingName                             object\n",
       "device.mobileDeviceModel                                     object\n",
       "device.mobileInputSelector                                   object\n",
       "device.operatingSystem                                       object\n",
       "device.operatingSystemVersion                                object\n",
       "device.screenColors                                          object\n",
       "device.screenResolution                                      object\n",
       "geoNetwork.city                                              object\n",
       "geoNetwork.cityId                                            object\n",
       "geoNetwork.continent                                         object\n",
       "geoNetwork.country                                           object\n",
       "geoNetwork.latitude                                          object\n",
       "geoNetwork.longitude                                         object\n",
       "geoNetwork.metro                                             object\n",
       "geoNetwork.networkDomain                                     object\n",
       "geoNetwork.networkLocation                                   object\n",
       "geoNetwork.region                                            object\n",
       "geoNetwork.subContinent                                      object\n",
       "totals.bounces                                              float64\n",
       "totals.hits                                                 float64\n",
       "totals.newVisits                                            float64\n",
       "totals.pageviews                                            float64\n",
       "totals.transactionRevenue                                   float64\n",
       "totals.visits                                               float64\n",
       "trafficSource.adContent                                      object\n",
       "trafficSource.adwordsClickInfo.adNetworkType                 object\n",
       "trafficSource.adwordsClickInfo.criteriaParameters            object\n",
       "trafficSource.adwordsClickInfo.gclId                         object\n",
       "trafficSource.adwordsClickInfo.isVideoAd                     object\n",
       "trafficSource.adwordsClickInfo.page                          object\n",
       "trafficSource.adwordsClickInfo.slot                          object\n",
       "trafficSource.campaign                                       object\n",
       "trafficSource.isTrueDirect                                   object\n",
       "trafficSource.keyword                                        object\n",
       "trafficSource.medium                                         object\n",
       "trafficSource.referralPath                                   object\n",
       "trafficSource.source                                         object\n",
       "month                                                         int64\n",
       "day                                                           int64\n",
       "weekday                                                       int64\n",
       "year                                                          int64\n",
       "isBuy                                                       float64\n",
       "dtype: object"
      ]
     },
     "execution_count": 22,
     "metadata": {},
     "output_type": "execute_result"
    }
   ],
   "source": [
    "data.dtypes"
   ]
  },
  {
   "cell_type": "code",
   "execution_count": 23,
   "metadata": {},
   "outputs": [
    {
     "data": {
      "text/html": [
       "<div>\n",
       "<style scoped>\n",
       "    .dataframe tbody tr th:only-of-type {\n",
       "        vertical-align: middle;\n",
       "    }\n",
       "\n",
       "    .dataframe tbody tr th {\n",
       "        vertical-align: top;\n",
       "    }\n",
       "\n",
       "    .dataframe thead th {\n",
       "        text-align: right;\n",
       "    }\n",
       "</style>\n",
       "<table border=\"1\" class=\"dataframe\">\n",
       "  <thead>\n",
       "    <tr style=\"text-align: right;\">\n",
       "      <th></th>\n",
       "      <th>fullVisitorId</th>\n",
       "      <th>totals.hits</th>\n",
       "      <th>totals.pageviews</th>\n",
       "      <th>totals.transactionRevenue</th>\n",
       "      <th>visitNumber</th>\n",
       "    </tr>\n",
       "  </thead>\n",
       "  <tbody>\n",
       "    <tr>\n",
       "      <th>0</th>\n",
       "      <td>0000010278554503158</td>\n",
       "      <td>11.0</td>\n",
       "      <td>8.0</td>\n",
       "      <td>0.0</td>\n",
       "      <td>1.0</td>\n",
       "    </tr>\n",
       "    <tr>\n",
       "      <th>1</th>\n",
       "      <td>0000020424342248747</td>\n",
       "      <td>17.0</td>\n",
       "      <td>13.0</td>\n",
       "      <td>0.0</td>\n",
       "      <td>1.0</td>\n",
       "    </tr>\n",
       "    <tr>\n",
       "      <th>2</th>\n",
       "      <td>0000027376579751715</td>\n",
       "      <td>6.0</td>\n",
       "      <td>5.0</td>\n",
       "      <td>0.0</td>\n",
       "      <td>1.0</td>\n",
       "    </tr>\n",
       "    <tr>\n",
       "      <th>3</th>\n",
       "      <td>0000039460501403861</td>\n",
       "      <td>2.0</td>\n",
       "      <td>2.0</td>\n",
       "      <td>0.0</td>\n",
       "      <td>1.0</td>\n",
       "    </tr>\n",
       "    <tr>\n",
       "      <th>4</th>\n",
       "      <td>0000040862739425590</td>\n",
       "      <td>5.0</td>\n",
       "      <td>5.0</td>\n",
       "      <td>0.0</td>\n",
       "      <td>2.0</td>\n",
       "    </tr>\n",
       "  </tbody>\n",
       "</table>\n",
       "</div>"
      ],
      "text/plain": [
       "         fullVisitorId  totals.hits  totals.pageviews  \\\n",
       "0  0000010278554503158         11.0               8.0   \n",
       "1  0000020424342248747         17.0              13.0   \n",
       "2  0000027376579751715          6.0               5.0   \n",
       "3  0000039460501403861          2.0               2.0   \n",
       "4  0000040862739425590          5.0               5.0   \n",
       "\n",
       "   totals.transactionRevenue  visitNumber  \n",
       "0                        0.0          1.0  \n",
       "1                        0.0          1.0  \n",
       "2                        0.0          1.0  \n",
       "3                        0.0          1.0  \n",
       "4                        0.0          2.0  "
      ]
     },
     "execution_count": 23,
     "metadata": {},
     "output_type": "execute_result"
    }
   ],
   "source": [
    "visitorData = data.groupby(\"fullVisitorId\")\n",
    "agg_dict = {}\n",
    "for col in [\"totals.hits\", \"totals.pageviews\", \"totals.transactionRevenue\"]:\n",
    "    data[col] = data[col].astype('float')\n",
    "    agg_dict[col] = \"sum\"\n",
    "data['visitNumber'] = data['visitNumber'].astype('float')\n",
    "agg_dict['visitNumber']=\"max\"\n",
    "visitorData = data.groupby(\"fullVisitorId\").agg(agg_dict).reset_index()\n",
    "visitorData.head()"
   ]
  },
  {
   "cell_type": "code",
   "execution_count": 24,
   "metadata": {},
   "outputs": [],
   "source": [
    "def visit_bins(x):\n",
    "    if x==1:\n",
    "        return \"1\"\n",
    "    elif x> 1 and x <= 5:\n",
    "        return \"2-5\"\n",
    "    elif x>5 and x <= 10:\n",
    "        return \"5-10\"\n",
    "    elif x>10 and x<= 20: \n",
    "        return \"10-20\"\n",
    "    elif x>20 and x <= 50:\n",
    "        return \"20-50\"\n",
    "    elif x>50 and x <= 100:\n",
    "        return \"50-100\"\n",
    "    else:\n",
    "        return \"100+\""
   ]
  },
  {
   "cell_type": "code",
   "execution_count": 25,
   "metadata": {},
   "outputs": [],
   "source": [
    "visitorData['visitBin'] = visitorData.visitNumber.apply(visit_bins)\n",
    "avgRevenue = visitorData.groupby(\"visitBin\")['totals.transactionRevenue'].mean()\n"
   ]
  },
  {
   "cell_type": "code",
   "execution_count": 28,
   "metadata": {},
   "outputs": [
    {
     "data": {
      "text/plain": [
       "<Figure size 576x432 with 0 Axes>"
      ]
     },
     "metadata": {},
     "output_type": "display_data"
    },
    {
     "data": {
      "image/png": "[encoded data removed]",
      "text/plain": [
       "<Figure size 432x288 with 2 Axes>"
      ]
     },
     "metadata": {},
     "output_type": "display_data"
    }
   ],
   "source": [
    "import matplotlib.pyplot as plt\n",
    "plt.figure(figsize=(8,6))\n",
    "fig, ax1 = plt.subplots()\n",
    "\n",
    "ax1.plot([\"1\",\"2-5\",\"5-10\",\"10-20\",\"20-50\",\"50-100\",\"100+\"],np.log(avgRevenue),color='b',label=\"Revenue\",marker=\"o\")\n",
    "ax1.set_xlabel('VisitNumber')\n",
    "# Make the y-axis label, ticks and tick labels match the line color.\n",
    "ax1.set_ylabel('avgRevenue')\n",
    "\n",
    "ax2 = ax1.twinx()\n",
    "ax2.plot([\"1\",\"2-5\",\"5-10\",\"10-20\",\"20-50\",\"50-100\",\"100+\"],np.log(visitorData.visitBin.value_counts()),color='r',label=\"Number of vistors\",marker=\"o\")\n",
    "ax2.set_ylabel('Number of visitors')\n",
    "\n",
    "fig.legend()\n",
    "plt.savefig(\"corr1.png\")\n",
    "plt.show()"
   ]
  },
  {
   "cell_type": "code",
   "execution_count": 29,
   "metadata": {},
   "outputs": [
    {
     "data": {
      "image/png": "[encoded data removed]",
      "text/plain": [
       "<Figure size 576x432 with 1 Axes>"
      ]
     },
     "metadata": {},
     "output_type": "display_data"
    }
   ],
   "source": [
    "channel = data.groupby('channelGrouping')\n",
    "names=[]\n",
    "sizeChannel=channel.size()\n",
    "for name,groups  in channel:\n",
    "    names.append(name)\n",
    "plt.figure(figsize=(8,6))\n",
    "explode=[0.5,0,0,0,0,0,0,0]\n",
    "plt.pie(channel.size(), labels=names,explode = explode,\n",
    "        shadow=True, startangle=90,autopct='%1.2f%%',)\n",
    "plt.savefig('channelsCl.png')\n",
    "plt.title(\"Percentage of Visits : Channel\")\n",
    "\n",
    "plt.show()\n"
   ]
  },
  {
   "cell_type": "code",
   "execution_count": 30,
   "metadata": {},
   "outputs": [
    {
     "data": {
      "image/png": "[encoded data removed]",
      "text/plain": [
       "<Figure size 1440x576 with 2 Axes>"
      ]
     },
     "metadata": {},
     "output_type": "display_data"
    }
   ],
   "source": [
    "channelRevenue = data.groupby('channelGrouping').agg({\"totals.transactionRevenue\": \"mean\"}).reset_index()\n",
    "channelRevenue = channelRevenue.sort_values(by='totals.transactionRevenue',ascending=False,axis=0) \n",
    "plt.figure(figsize=(20,8))\n",
    "\n",
    "plt.subplot(221)\n",
    "plt.bar(channelRevenue['channelGrouping'],np.log(channelRevenue['totals.transactionRevenue']))\n",
    "plt.xlabel(\"Channel\")\n",
    "plt.xticks(rotation=90)\n",
    "plt.ylabel(\"Average Revenue\")\n",
    "plt.title(\"Average Revenue : Channel\")\n",
    "\n",
    "plt.subplot(222)\n",
    "channelRevenueSum = data.groupby('channelGrouping').agg({\"totals.transactionRevenue\": \"sum\"}).reset_index()\n",
    "channelRevenueSum = channelRevenueSum.sort_values(by='totals.transactionRevenue',ascending=False,axis=0) \n",
    "explode=[0,0,0,0,0,0,0,0.5]\n",
    "plt.pie(channelRevenueSum['totals.transactionRevenue'], labels=channelRevenueSum['channelGrouping'],explode = explode,\n",
    "        shadow=True, startangle=90,autopct='%1.2f%%',)\n",
    "plt.title(\"Total Revenue : Channel\")\n",
    "plt.savefig('Revenue:Channel.png')\n",
    "plt.show()"
   ]
  },
  {
   "cell_type": "code",
   "execution_count": 34,
   "metadata": {},
   "outputs": [],
   "source": [
    "data['pageView/hit']=np.round(data['totals.pageviews'].astype(float) / data['totals.hits'].astype(float),decimals=1)\n",
    "\n"
   ]
  },
  {
   "cell_type": "code",
   "execution_count": 39,
   "metadata": {},
   "outputs": [],
   "source": [
    "ratiodata = data.groupby('pageView/hit').agg({\"totals.transactionRevenue\": \"sum\"}).reset_index()\n"
   ]
  },
  {
   "cell_type": "code",
   "execution_count": 46,
   "metadata": {},
   "outputs": [
    {
     "data": {
      "image/png": "[encoded data removed]",
      "text/plain": [
       "<Figure size 720x432 with 1 Axes>"
      ]
     },
     "metadata": {},
     "output_type": "display_data"
    }
   ],
   "source": [
    "plt.figure(figsize=(10,6))\n",
    "\n",
    "plt.bar(ratiodata['pageView/hit'].astype(str),np.log1p(ratiodata['totals.transactionRevenue']))\n",
    "plt.xlabel(\"PageView/Hit Ratio\")\n",
    "plt.ylabel(\"Total Log Revenue\")\n",
    "plt.title(\"Total Log Revenue : PageView/Hit Ratio\")\n",
    "plt.savefig('RatioRevenue.png')\n",
    "plt.show()"
   ]
  },
  {
   "cell_type": "code",
   "execution_count": 47,
   "metadata": {},
   "outputs": [
    {
     "data": {
      "image/png": "[encoded data removed]",
      "text/plain": [
       "<Figure size 576x432 with 1 Axes>"
      ]
     },
     "metadata": {},
     "output_type": "display_data"
    }
   ],
   "source": [
    "geoContinent = data.groupby('geoNetwork.continent')\n",
    "names=[]\n",
    "geoSize=geoContinent.size()\n",
    "\n",
    "for name,groups  in geoContinent:\n",
    "    names.append(name)\n",
    "\n",
    "plt.figure(figsize=(8,6))\n",
    "explode=[1,0,0,0,0,0]\n",
    "plt.pie(geoSize, labels=names,explode = explode,\n",
    "        shadow=True, startangle=90,autopct='%1.2f%%',)\n",
    "plt.savefig('Visits:EachContinent1Pie.png')\n",
    "plt.show()"
   ]
  },
  {
   "cell_type": "code",
   "execution_count": 48,
   "metadata": {},
   "outputs": [
    {
     "data": {
      "image/png": "[encoded data removed]",
      "text/plain": [
       "<Figure size 1440x576 with 2 Axes>"
      ]
     },
     "metadata": {},
     "output_type": "display_data"
    }
   ],
   "source": [
    "geoRevenue = data.groupby('geoNetwork.continent').agg({\"totals.transactionRevenue\": \"mean\"}).reset_index()\n",
    "geoRevenueTot = data.groupby('geoNetwork.continent').agg({\"totals.transactionRevenue\": \"sum\"}).reset_index()\n",
    "plt.figure(figsize=(20,8))\n",
    "plt.subplot(221)\n",
    "plt.bar(geoRevenue['geoNetwork.continent'],np.log1p(geoRevenue['totals.transactionRevenue']))\n",
    "plt.xlabel(\"Continent\")\n",
    "plt.xticks(rotation=90)\n",
    "plt.ylabel(\"Average Revenue\")\n",
    "plt.title(\"Average Revenue : Each Continent\")\n",
    "\n",
    "plt.subplot(222)\n",
    "plt.bar(geoRevenueTot['geoNetwork.continent'],np.log1p(geoRevenueTot['totals.transactionRevenue']))\n",
    "plt.xlabel(\"Continent\")\n",
    "plt.xticks(rotation=90)\n",
    "plt.ylabel(\"Total Revenue\")\n",
    "plt.title(\"Total Revenue : Each Continent\")\n",
    "plt.savefig('Revenue:EachContinent1.png')\n",
    "plt.show()"
   ]
  },
  {
   "cell_type": "code",
   "execution_count": 54,
   "metadata": {},
   "outputs": [
    {
     "data": {
      "image/png": "[encoded data removed]",
      "text/plain": [
       "<Figure size 1080x576 with 1 Axes>"
      ]
     },
     "metadata": {},
     "output_type": "display_data"
    }
   ],
   "source": [
    "geoSub = data.groupby('geoNetwork.subContinent')\n",
    "names=[]\n",
    "geoSize=geoSub.size()\n",
    "for name,groups  in geoSub:\n",
    "    names.append(name)\n",
    "    \n",
    "plt.figure(figsize=(15,8))\n",
    "plt.barh(names,geoSub.size())\n",
    "plt.xlabel(\"Sub Continent\")\n",
    "plt.xticks(rotation=90)\n",
    "plt.ylabel(\"Number of visits\")\n",
    "plt.title(\"Visits : Each subContinent\")\n",
    "plt.savefig('Visits:EachsubContinent.png')\n",
    "plt.show()"
   ]
  },
  {
   "cell_type": "code",
   "execution_count": 52,
   "metadata": {},
   "outputs": [
    {
     "data": {
      "image/png": "[encoded data removed]",
      "text/plain": [
       "<Figure size 1440x720 with 2 Axes>"
      ]
     },
     "metadata": {},
     "output_type": "display_data"
    }
   ],
   "source": [
    "geoRevenueSub = data.groupby('geoNetwork.subContinent').agg({\"totals.transactionRevenue\": \"mean\"}).reset_index()\n",
    "geoRevenueTot = data.groupby('geoNetwork.subContinent').agg({\"totals.transactionRevenue\": \"sum\"}).reset_index()\n",
    "\n",
    "import matplotlib.pyplot as plt\n",
    "plt.figure(figsize=(20,10))\n",
    "plt.subplot(221)\n",
    "plt.bar(geoRevenueSub['geoNetwork.subContinent'],np.log1p(geoRevenueSub['totals.transactionRevenue']))\n",
    "plt.xlabel(\"SubContinent\")\n",
    "plt.xticks(rotation=90)\n",
    "plt.ylabel(\"Average Revenue\")\n",
    "plt.title(\"Average Revenue : Each SubContinent\")\n",
    "\n",
    "plt.subplot(222)\n",
    "plt.bar(geoRevenueTot['geoNetwork.subContinent'],np.log1p(geoRevenueTot['totals.transactionRevenue']))\n",
    "plt.xlabel(\"SubContinent\")\n",
    "plt.xticks(rotation=90)\n",
    "plt.ylabel(\"Total Revenue\")\n",
    "plt.title(\"Total Revenue : Each SubContinent\")\n",
    "\n",
    "plt.savefig('Revenue:EachsubContinent1.png')\n",
    "plt.show()"
   ]
  },
  {
   "cell_type": "code",
   "execution_count": 55,
   "metadata": {},
   "outputs": [],
   "source": [
    "probFeatures = ['visitNumber','totals.hits','totals.pageviews','pageView/hit']"
   ]
  },
  {
   "cell_type": "code",
   "execution_count": 56,
   "metadata": {},
   "outputs": [
    {
     "data": {
      "text/plain": [
       "array([[ 2.84377152e-03, -2.88813310e-01,  4.87069114e-01,\n",
       "        -6.05315561e+00]])"
      ]
     },
     "execution_count": 56,
     "metadata": {},
     "output_type": "execute_result"
    }
   ],
   "source": [
    "from sklearn.linear_model import LogisticRegression\n",
    "\n",
    "logReg = LogisticRegression()\n",
    "regModel = logReg.fit(data[probFeatures],data['isBuy'])\n",
    "regModel.coef_"
   ]
  },
  {
   "cell_type": "code",
   "execution_count": 57,
   "metadata": {},
   "outputs": [
    {
     "data": {
      "text/plain": [
       "{'visitNumber': 0.0028437715225520513,\n",
       " 'totals.hits': -0.2888133102653093,\n",
       " 'totals.pageviews': 0.48706911427757127,\n",
       " 'pageView/hit': -6.053155606550459}"
      ]
     },
     "execution_count": 57,
     "metadata": {},
     "output_type": "execute_result"
    }
   ],
   "source": [
    "featureWeight={}\n",
    "i=0;\n",
    "for each in probFeatures:\n",
    "    featureWeight[each] = regModel.coef_[0][i]\n",
    "    i=i+1\n",
    "featureWeight"
   ]
  },
  {
   "cell_type": "code",
   "execution_count": 58,
   "metadata": {},
   "outputs": [],
   "source": [
    "probScore = 0.0029*data['visitNumber'] +(-0.2888)*data['totals.hits']+ 0.48706 * data['totals.pageviews']+(-6.0531)*data['pageView/hit']\n",
    "\n",
    "import math\n",
    "\n",
    "def sigmoid(x):\n",
    "  return 1 / (1 + math.exp(-x))"
   ]
  },
  {
   "cell_type": "code",
   "execution_count": 59,
   "metadata": {},
   "outputs": [],
   "source": [
    "prob =[]\n",
    "for each in probScore:\n",
    "    prob.append(sigmoid(each))"
   ]
  },
  {
   "cell_type": "code",
   "execution_count": 67,
   "metadata": {},
   "outputs": [],
   "source": [
    "predData = data"
   ]
  },
  {
   "cell_type": "code",
   "execution_count": 68,
   "metadata": {},
   "outputs": [],
   "source": [
    "predData['predBuy'] = pd.Series(prob)\n"
   ]
  },
  {
   "cell_type": "code",
   "execution_count": 90,
   "metadata": {},
   "outputs": [],
   "source": [
    "predFeatures=[x  for x in data.columns if x not in const_cols]"
   ]
  },
  {
   "cell_type": "code",
   "execution_count": 93,
   "metadata": {},
   "outputs": [],
   "source": [
    "predFeatures.remove('predBuy')\n"
   ]
  },
  {
   "cell_type": "code",
   "execution_count": 95,
   "metadata": {},
   "outputs": [
    {
     "data": {
      "text/html": [
       "<div>\n",
       "<style scoped>\n",
       "    .dataframe tbody tr th:only-of-type {\n",
       "        vertical-align: middle;\n",
       "    }\n",
       "\n",
       "    .dataframe tbody tr th {\n",
       "        vertical-align: top;\n",
       "    }\n",
       "\n",
       "    .dataframe thead th {\n",
       "        text-align: right;\n",
       "    }\n",
       "</style>\n",
       "<table border=\"1\" class=\"dataframe\">\n",
       "  <thead>\n",
       "    <tr style=\"text-align: right;\">\n",
       "      <th></th>\n",
       "      <th>channelGrouping</th>\n",
       "      <th>date</th>\n",
       "      <th>fullVisitorId</th>\n",
       "      <th>sessionId</th>\n",
       "      <th>visitId</th>\n",
       "      <th>visitNumber</th>\n",
       "      <th>visitStartTime</th>\n",
       "      <th>device.browser</th>\n",
       "      <th>device.deviceCategory</th>\n",
       "      <th>device.isMobile</th>\n",
       "      <th>...</th>\n",
       "      <th>trafficSource.medium</th>\n",
       "      <th>trafficSource.referralPath</th>\n",
       "      <th>trafficSource.source</th>\n",
       "      <th>month</th>\n",
       "      <th>day</th>\n",
       "      <th>weekday</th>\n",
       "      <th>year</th>\n",
       "      <th>isBuy</th>\n",
       "      <th>pageView/hit</th>\n",
       "      <th>predBuy</th>\n",
       "    </tr>\n",
       "  </thead>\n",
       "  <tbody>\n",
       "    <tr>\n",
       "      <th>600775</th>\n",
       "      <td>Direct</td>\n",
       "      <td>2017-03-04</td>\n",
       "      <td>5526675926038480325</td>\n",
       "      <td>5526675926038480325_1488663704</td>\n",
       "      <td>1488663704</td>\n",
       "      <td>1.0</td>\n",
       "      <td>1488663704</td>\n",
       "      <td>Chrome</td>\n",
       "      <td>desktop</td>\n",
       "      <td>False</td>\n",
       "      <td>...</td>\n",
       "      <td>(none)</td>\n",
       "      <td>NaN</td>\n",
       "      <td>(direct)</td>\n",
       "      <td>3</td>\n",
       "      <td>4</td>\n",
       "      <td>5</td>\n",
       "      <td>2017</td>\n",
       "      <td>1.0</td>\n",
       "      <td>0.9</td>\n",
       "      <td>1.0</td>\n",
       "    </tr>\n",
       "    <tr>\n",
       "      <th>321795</th>\n",
       "      <td>Organic Search</td>\n",
       "      <td>2016-08-26</td>\n",
       "      <td>7344519175727343086</td>\n",
       "      <td>7344519175727343086_1472240181</td>\n",
       "      <td>1472240181</td>\n",
       "      <td>25.0</td>\n",
       "      <td>1472240181</td>\n",
       "      <td>Chrome</td>\n",
       "      <td>desktop</td>\n",
       "      <td>False</td>\n",
       "      <td>...</td>\n",
       "      <td>organic</td>\n",
       "      <td>NaN</td>\n",
       "      <td>google</td>\n",
       "      <td>8</td>\n",
       "      <td>26</td>\n",
       "      <td>4</td>\n",
       "      <td>2016</td>\n",
       "      <td>1.0</td>\n",
       "      <td>0.9</td>\n",
       "      <td>1.0</td>\n",
       "    </tr>\n",
       "    <tr>\n",
       "      <th>321462</th>\n",
       "      <td>Social</td>\n",
       "      <td>2016-08-26</td>\n",
       "      <td>743123551680199202</td>\n",
       "      <td>743123551680199202_1472216705</td>\n",
       "      <td>1472216705</td>\n",
       "      <td>3.0</td>\n",
       "      <td>1472216705</td>\n",
       "      <td>Chrome</td>\n",
       "      <td>desktop</td>\n",
       "      <td>False</td>\n",
       "      <td>...</td>\n",
       "      <td>referral</td>\n",
       "      <td>/</td>\n",
       "      <td>facebook.com</td>\n",
       "      <td>8</td>\n",
       "      <td>26</td>\n",
       "      <td>4</td>\n",
       "      <td>2016</td>\n",
       "      <td>1.0</td>\n",
       "      <td>0.9</td>\n",
       "      <td>1.0</td>\n",
       "    </tr>\n",
       "    <tr>\n",
       "      <th>838596</th>\n",
       "      <td>Organic Search</td>\n",
       "      <td>2016-08-28</td>\n",
       "      <td>9894955795481014038</td>\n",
       "      <td>9894955795481014038_1472394195</td>\n",
       "      <td>1472394195</td>\n",
       "      <td>12.0</td>\n",
       "      <td>1472394195</td>\n",
       "      <td>Chrome</td>\n",
       "      <td>tablet</td>\n",
       "      <td>True</td>\n",
       "      <td>...</td>\n",
       "      <td>organic</td>\n",
       "      <td>NaN</td>\n",
       "      <td>google</td>\n",
       "      <td>8</td>\n",
       "      <td>28</td>\n",
       "      <td>6</td>\n",
       "      <td>2016</td>\n",
       "      <td>0.0</td>\n",
       "      <td>1.0</td>\n",
       "      <td>1.0</td>\n",
       "    </tr>\n",
       "    <tr>\n",
       "      <th>456141</th>\n",
       "      <td>Organic Search</td>\n",
       "      <td>2016-08-25</td>\n",
       "      <td>9264804092676520813</td>\n",
       "      <td>9264804092676520813_1472130683</td>\n",
       "      <td>1472130683</td>\n",
       "      <td>2.0</td>\n",
       "      <td>1472130683</td>\n",
       "      <td>Chrome</td>\n",
       "      <td>desktop</td>\n",
       "      <td>False</td>\n",
       "      <td>...</td>\n",
       "      <td>organic</td>\n",
       "      <td>NaN</td>\n",
       "      <td>google</td>\n",
       "      <td>8</td>\n",
       "      <td>25</td>\n",
       "      <td>3</td>\n",
       "      <td>2016</td>\n",
       "      <td>1.0</td>\n",
       "      <td>0.9</td>\n",
       "      <td>1.0</td>\n",
       "    </tr>\n",
       "    <tr>\n",
       "      <th>456142</th>\n",
       "      <td>Organic Search</td>\n",
       "      <td>2016-08-25</td>\n",
       "      <td>3924372865099736100</td>\n",
       "      <td>3924372865099736100_1472132217</td>\n",
       "      <td>1472132217</td>\n",
       "      <td>1.0</td>\n",
       "      <td>1472132217</td>\n",
       "      <td>Chrome</td>\n",
       "      <td>desktop</td>\n",
       "      <td>False</td>\n",
       "      <td>...</td>\n",
       "      <td>organic</td>\n",
       "      <td>NaN</td>\n",
       "      <td>google</td>\n",
       "      <td>8</td>\n",
       "      <td>25</td>\n",
       "      <td>3</td>\n",
       "      <td>2016</td>\n",
       "      <td>1.0</td>\n",
       "      <td>0.9</td>\n",
       "      <td>1.0</td>\n",
       "    </tr>\n",
       "    <tr>\n",
       "      <th>321461</th>\n",
       "      <td>Social</td>\n",
       "      <td>2016-08-26</td>\n",
       "      <td>2920116282116200226</td>\n",
       "      <td>2920116282116200226_1472239187</td>\n",
       "      <td>1472239187</td>\n",
       "      <td>2.0</td>\n",
       "      <td>1472239187</td>\n",
       "      <td>Chrome</td>\n",
       "      <td>tablet</td>\n",
       "      <td>True</td>\n",
       "      <td>...</td>\n",
       "      <td>referral</td>\n",
       "      <td>/</td>\n",
       "      <td>m.facebook.com</td>\n",
       "      <td>8</td>\n",
       "      <td>26</td>\n",
       "      <td>4</td>\n",
       "      <td>2016</td>\n",
       "      <td>1.0</td>\n",
       "      <td>0.9</td>\n",
       "      <td>1.0</td>\n",
       "    </tr>\n",
       "    <tr>\n",
       "      <th>88736</th>\n",
       "      <td>Referral</td>\n",
       "      <td>2017-03-18</td>\n",
       "      <td>6879336706336070910</td>\n",
       "      <td>6879336706336070910_1489823400</td>\n",
       "      <td>1489823400</td>\n",
       "      <td>1.0</td>\n",
       "      <td>1489823400</td>\n",
       "      <td>Chrome</td>\n",
       "      <td>desktop</td>\n",
       "      <td>False</td>\n",
       "      <td>...</td>\n",
       "      <td>referral</td>\n",
       "      <td>/mail/u/0/</td>\n",
       "      <td>mail.google.com</td>\n",
       "      <td>3</td>\n",
       "      <td>18</td>\n",
       "      <td>5</td>\n",
       "      <td>2017</td>\n",
       "      <td>1.0</td>\n",
       "      <td>0.8</td>\n",
       "      <td>1.0</td>\n",
       "    </tr>\n",
       "    <tr>\n",
       "      <th>138750</th>\n",
       "      <td>Direct</td>\n",
       "      <td>2017-03-20</td>\n",
       "      <td>8942866004645538967</td>\n",
       "      <td>8942866004645538967_1489999542</td>\n",
       "      <td>1489999542</td>\n",
       "      <td>1.0</td>\n",
       "      <td>1489999542</td>\n",
       "      <td>Chrome</td>\n",
       "      <td>desktop</td>\n",
       "      <td>False</td>\n",
       "      <td>...</td>\n",
       "      <td>(none)</td>\n",
       "      <td>NaN</td>\n",
       "      <td>(direct)</td>\n",
       "      <td>3</td>\n",
       "      <td>20</td>\n",
       "      <td>0</td>\n",
       "      <td>2017</td>\n",
       "      <td>1.0</td>\n",
       "      <td>0.9</td>\n",
       "      <td>1.0</td>\n",
       "    </tr>\n",
       "    <tr>\n",
       "      <th>665266</th>\n",
       "      <td>Organic Search</td>\n",
       "      <td>2016-08-27</td>\n",
       "      <td>9894955795481014038</td>\n",
       "      <td>9894955795481014038_1472352428</td>\n",
       "      <td>1472352428</td>\n",
       "      <td>9.0</td>\n",
       "      <td>1472352428</td>\n",
       "      <td>Chrome</td>\n",
       "      <td>tablet</td>\n",
       "      <td>True</td>\n",
       "      <td>...</td>\n",
       "      <td>organic</td>\n",
       "      <td>NaN</td>\n",
       "      <td>google</td>\n",
       "      <td>8</td>\n",
       "      <td>27</td>\n",
       "      <td>5</td>\n",
       "      <td>2016</td>\n",
       "      <td>0.0</td>\n",
       "      <td>1.0</td>\n",
       "      <td>1.0</td>\n",
       "    </tr>\n",
       "  </tbody>\n",
       "</table>\n",
       "<p>10 rows × 38 columns</p>\n",
       "</div>"
      ],
      "text/plain": [
       "       channelGrouping       date        fullVisitorId  \\\n",
       "600775          Direct 2017-03-04  5526675926038480325   \n",
       "321795  Organic Search 2016-08-26  7344519175727343086   \n",
       "321462          Social 2016-08-26   743123551680199202   \n",
       "838596  Organic Search 2016-08-28  9894955795481014038   \n",
       "456141  Organic Search 2016-08-25  9264804092676520813   \n",
       "456142  Organic Search 2016-08-25  3924372865099736100   \n",
       "321461          Social 2016-08-26  2920116282116200226   \n",
       "88736         Referral 2017-03-18  6879336706336070910   \n",
       "138750          Direct 2017-03-20  8942866004645538967   \n",
       "665266  Organic Search 2016-08-27  9894955795481014038   \n",
       "\n",
       "                             sessionId     visitId  visitNumber  \\\n",
       "600775  5526675926038480325_1488663704  1488663704          1.0   \n",
       "321795  7344519175727343086_1472240181  1472240181         25.0   \n",
       "321462   743123551680199202_1472216705  1472216705          3.0   \n",
       "838596  9894955795481014038_1472394195  1472394195         12.0   \n",
       "456141  9264804092676520813_1472130683  1472130683          2.0   \n",
       "456142  3924372865099736100_1472132217  1472132217          1.0   \n",
       "321461  2920116282116200226_1472239187  1472239187          2.0   \n",
       "88736   6879336706336070910_1489823400  1489823400          1.0   \n",
       "138750  8942866004645538967_1489999542  1489999542          1.0   \n",
       "665266  9894955795481014038_1472352428  1472352428          9.0   \n",
       "\n",
       "        visitStartTime device.browser device.deviceCategory  device.isMobile  \\\n",
       "600775      1488663704         Chrome               desktop            False   \n",
       "321795      1472240181         Chrome               desktop            False   \n",
       "321462      1472216705         Chrome               desktop            False   \n",
       "838596      1472394195         Chrome                tablet             True   \n",
       "456141      1472130683         Chrome               desktop            False   \n",
       "456142      1472132217         Chrome               desktop            False   \n",
       "321461      1472239187         Chrome                tablet             True   \n",
       "88736       1489823400         Chrome               desktop            False   \n",
       "138750      1489999542         Chrome               desktop            False   \n",
       "665266      1472352428         Chrome                tablet             True   \n",
       "\n",
       "         ...    trafficSource.medium trafficSource.referralPath  \\\n",
       "600775   ...                  (none)                        NaN   \n",
       "321795   ...                 organic                        NaN   \n",
       "321462   ...                referral                          /   \n",
       "838596   ...                 organic                        NaN   \n",
       "456141   ...                 organic                        NaN   \n",
       "456142   ...                 organic                        NaN   \n",
       "321461   ...                referral                          /   \n",
       "88736    ...                referral                 /mail/u/0/   \n",
       "138750   ...                  (none)                        NaN   \n",
       "665266   ...                 organic                        NaN   \n",
       "\n",
       "       trafficSource.source month day weekday  year isBuy  pageView/hit  \\\n",
       "600775             (direct)     3   4       5  2017   1.0           0.9   \n",
       "321795               google     8  26       4  2016   1.0           0.9   \n",
       "321462         facebook.com     8  26       4  2016   1.0           0.9   \n",
       "838596               google     8  28       6  2016   0.0           1.0   \n",
       "456141               google     8  25       3  2016   1.0           0.9   \n",
       "456142               google     8  25       3  2016   1.0           0.9   \n",
       "321461       m.facebook.com     8  26       4  2016   1.0           0.9   \n",
       "88736       mail.google.com     3  18       5  2017   1.0           0.8   \n",
       "138750             (direct)     3  20       0  2017   1.0           0.9   \n",
       "665266               google     8  27       5  2016   0.0           1.0   \n",
       "\n",
       "        predBuy  \n",
       "600775      1.0  \n",
       "321795      1.0  \n",
       "321462      1.0  \n",
       "838596      1.0  \n",
       "456141      1.0  \n",
       "456142      1.0  \n",
       "321461      1.0  \n",
       "88736       1.0  \n",
       "138750      1.0  \n",
       "665266      1.0  \n",
       "\n",
       "[10 rows x 38 columns]"
      ]
     },
     "execution_count": 95,
     "metadata": {},
     "output_type": "execute_result"
    }
   ],
   "source": [
    "buyerRank = predData[predFeatures].sort_values(by='predBuy',ascending=False,axis=0)\n",
    "buyerRank.head(10)"
   ]
  },
  {
   "cell_type": "code",
   "execution_count": 97,
   "metadata": {},
   "outputs": [
    {
     "data": {
      "text/html": [
       "<div>\n",
       "<style scoped>\n",
       "    .dataframe tbody tr th:only-of-type {\n",
       "        vertical-align: middle;\n",
       "    }\n",
       "\n",
       "    .dataframe tbody tr th {\n",
       "        vertical-align: top;\n",
       "    }\n",
       "\n",
       "    .dataframe thead th {\n",
       "        text-align: right;\n",
       "    }\n",
       "</style>\n",
       "<table border=\"1\" class=\"dataframe\">\n",
       "  <thead>\n",
       "    <tr style=\"text-align: right;\">\n",
       "      <th></th>\n",
       "      <th>fullVisitorId</th>\n",
       "      <th>visitNumber</th>\n",
       "      <th>pageView/hit</th>\n",
       "      <th>predBuy</th>\n",
       "      <th>totals.transactionRevenue</th>\n",
       "    </tr>\n",
       "  </thead>\n",
       "  <tbody>\n",
       "    <tr>\n",
       "      <th>600775</th>\n",
       "      <td>5526675926038480325</td>\n",
       "      <td>1.0</td>\n",
       "      <td>0.9</td>\n",
       "      <td>1.0</td>\n",
       "      <td>8.796000e+07</td>\n",
       "    </tr>\n",
       "    <tr>\n",
       "      <th>321795</th>\n",
       "      <td>7344519175727343086</td>\n",
       "      <td>25.0</td>\n",
       "      <td>0.9</td>\n",
       "      <td>1.0</td>\n",
       "      <td>1.684900e+08</td>\n",
       "    </tr>\n",
       "    <tr>\n",
       "      <th>321462</th>\n",
       "      <td>743123551680199202</td>\n",
       "      <td>3.0</td>\n",
       "      <td>0.9</td>\n",
       "      <td>1.0</td>\n",
       "      <td>9.098000e+07</td>\n",
       "    </tr>\n",
       "    <tr>\n",
       "      <th>838596</th>\n",
       "      <td>9894955795481014038</td>\n",
       "      <td>12.0</td>\n",
       "      <td>1.0</td>\n",
       "      <td>1.0</td>\n",
       "      <td>0.000000e+00</td>\n",
       "    </tr>\n",
       "    <tr>\n",
       "      <th>456141</th>\n",
       "      <td>9264804092676520813</td>\n",
       "      <td>2.0</td>\n",
       "      <td>0.9</td>\n",
       "      <td>1.0</td>\n",
       "      <td>1.520530e+09</td>\n",
       "    </tr>\n",
       "    <tr>\n",
       "      <th>456142</th>\n",
       "      <td>3924372865099736100</td>\n",
       "      <td>1.0</td>\n",
       "      <td>0.9</td>\n",
       "      <td>1.0</td>\n",
       "      <td>1.720930e+09</td>\n",
       "    </tr>\n",
       "    <tr>\n",
       "      <th>321461</th>\n",
       "      <td>2920116282116200226</td>\n",
       "      <td>2.0</td>\n",
       "      <td>0.9</td>\n",
       "      <td>1.0</td>\n",
       "      <td>8.887000e+07</td>\n",
       "    </tr>\n",
       "    <tr>\n",
       "      <th>88736</th>\n",
       "      <td>6879336706336070910</td>\n",
       "      <td>1.0</td>\n",
       "      <td>0.8</td>\n",
       "      <td>1.0</td>\n",
       "      <td>1.339500e+08</td>\n",
       "    </tr>\n",
       "    <tr>\n",
       "      <th>138750</th>\n",
       "      <td>8942866004645538967</td>\n",
       "      <td>1.0</td>\n",
       "      <td>0.9</td>\n",
       "      <td>1.0</td>\n",
       "      <td>4.719200e+08</td>\n",
       "    </tr>\n",
       "    <tr>\n",
       "      <th>665266</th>\n",
       "      <td>9894955795481014038</td>\n",
       "      <td>9.0</td>\n",
       "      <td>1.0</td>\n",
       "      <td>1.0</td>\n",
       "      <td>0.000000e+00</td>\n",
       "    </tr>\n",
       "  </tbody>\n",
       "</table>\n",
       "</div>"
      ],
      "text/plain": [
       "              fullVisitorId  visitNumber  pageView/hit  predBuy  \\\n",
       "600775  5526675926038480325          1.0           0.9      1.0   \n",
       "321795  7344519175727343086         25.0           0.9      1.0   \n",
       "321462   743123551680199202          3.0           0.9      1.0   \n",
       "838596  9894955795481014038         12.0           1.0      1.0   \n",
       "456141  9264804092676520813          2.0           0.9      1.0   \n",
       "456142  3924372865099736100          1.0           0.9      1.0   \n",
       "321461  2920116282116200226          2.0           0.9      1.0   \n",
       "88736   6879336706336070910          1.0           0.8      1.0   \n",
       "138750  8942866004645538967          1.0           0.9      1.0   \n",
       "665266  9894955795481014038          9.0           1.0      1.0   \n",
       "\n",
       "        totals.transactionRevenue  \n",
       "600775               8.796000e+07  \n",
       "321795               1.684900e+08  \n",
       "321462               9.098000e+07  \n",
       "838596               0.000000e+00  \n",
       "456141               1.520530e+09  \n",
       "456142               1.720930e+09  \n",
       "321461               8.887000e+07  \n",
       "88736                1.339500e+08  \n",
       "138750               4.719200e+08  \n",
       "665266               0.000000e+00  "
      ]
     },
     "execution_count": 97,
     "metadata": {},
     "output_type": "execute_result"
    }
   ],
   "source": [
    "buyerRank[['fullVisitorId','visitNumber','pageView/hit','predBuy','totals.transactionRevenue']].head(10)"
   ]
  },
  {
   "cell_type": "code",
   "execution_count": 252,
   "metadata": {},
   "outputs": [
    {
     "data": {
      "text/html": [
       "<div>\n",
       "<style scoped>\n",
       "    .dataframe tbody tr th:only-of-type {\n",
       "        vertical-align: middle;\n",
       "    }\n",
       "\n",
       "    .dataframe tbody tr th {\n",
       "        vertical-align: top;\n",
       "    }\n",
       "\n",
       "    .dataframe thead th {\n",
       "        text-align: right;\n",
       "    }\n",
       "</style>\n",
       "<table border=\"1\" class=\"dataframe\">\n",
       "  <thead>\n",
       "    <tr style=\"text-align: right;\">\n",
       "      <th></th>\n",
       "      <th>fullVisitorId</th>\n",
       "      <th>visitNumber</th>\n",
       "      <th>pageView/hit</th>\n",
       "      <th>predBuy</th>\n",
       "      <th>totals.transactionRevenue</th>\n",
       "      <th>geoNetwork.country</th>\n",
       "      <th>channelGrouping</th>\n",
       "      <th>geoNetwork.subContinent</th>\n",
       "    </tr>\n",
       "  </thead>\n",
       "  <tbody>\n",
       "    <tr>\n",
       "      <th>600775</th>\n",
       "      <td>5526675926038480325</td>\n",
       "      <td>1.0</td>\n",
       "      <td>0.9</td>\n",
       "      <td>1.0</td>\n",
       "      <td>8.796000e+07</td>\n",
       "      <td>United States</td>\n",
       "      <td>Direct</td>\n",
       "      <td>Northern America</td>\n",
       "    </tr>\n",
       "    <tr>\n",
       "      <th>321795</th>\n",
       "      <td>7344519175727343086</td>\n",
       "      <td>25.0</td>\n",
       "      <td>0.9</td>\n",
       "      <td>1.0</td>\n",
       "      <td>1.684900e+08</td>\n",
       "      <td>Venezuela</td>\n",
       "      <td>Organic Search</td>\n",
       "      <td>South America</td>\n",
       "    </tr>\n",
       "    <tr>\n",
       "      <th>321462</th>\n",
       "      <td>743123551680199202</td>\n",
       "      <td>3.0</td>\n",
       "      <td>0.9</td>\n",
       "      <td>1.0</td>\n",
       "      <td>9.098000e+07</td>\n",
       "      <td>Venezuela</td>\n",
       "      <td>Social</td>\n",
       "      <td>South America</td>\n",
       "    </tr>\n",
       "    <tr>\n",
       "      <th>838596</th>\n",
       "      <td>9894955795481014038</td>\n",
       "      <td>12.0</td>\n",
       "      <td>1.0</td>\n",
       "      <td>1.0</td>\n",
       "      <td>0.000000e+00</td>\n",
       "      <td>Venezuela</td>\n",
       "      <td>Organic Search</td>\n",
       "      <td>South America</td>\n",
       "    </tr>\n",
       "    <tr>\n",
       "      <th>456141</th>\n",
       "      <td>9264804092676520813</td>\n",
       "      <td>2.0</td>\n",
       "      <td>0.9</td>\n",
       "      <td>1.0</td>\n",
       "      <td>1.520530e+09</td>\n",
       "      <td>Venezuela</td>\n",
       "      <td>Organic Search</td>\n",
       "      <td>South America</td>\n",
       "    </tr>\n",
       "    <tr>\n",
       "      <th>456142</th>\n",
       "      <td>3924372865099736100</td>\n",
       "      <td>1.0</td>\n",
       "      <td>0.9</td>\n",
       "      <td>1.0</td>\n",
       "      <td>1.720930e+09</td>\n",
       "      <td>Venezuela</td>\n",
       "      <td>Organic Search</td>\n",
       "      <td>South America</td>\n",
       "    </tr>\n",
       "    <tr>\n",
       "      <th>321461</th>\n",
       "      <td>2920116282116200226</td>\n",
       "      <td>2.0</td>\n",
       "      <td>0.9</td>\n",
       "      <td>1.0</td>\n",
       "      <td>8.887000e+07</td>\n",
       "      <td>United States</td>\n",
       "      <td>Social</td>\n",
       "      <td>Northern America</td>\n",
       "    </tr>\n",
       "    <tr>\n",
       "      <th>88736</th>\n",
       "      <td>6879336706336070910</td>\n",
       "      <td>1.0</td>\n",
       "      <td>0.8</td>\n",
       "      <td>1.0</td>\n",
       "      <td>1.339500e+08</td>\n",
       "      <td>Venezuela</td>\n",
       "      <td>Referral</td>\n",
       "      <td>South America</td>\n",
       "    </tr>\n",
       "    <tr>\n",
       "      <th>138750</th>\n",
       "      <td>8942866004645538967</td>\n",
       "      <td>1.0</td>\n",
       "      <td>0.9</td>\n",
       "      <td>1.0</td>\n",
       "      <td>4.719200e+08</td>\n",
       "      <td>United States</td>\n",
       "      <td>Direct</td>\n",
       "      <td>Northern America</td>\n",
       "    </tr>\n",
       "    <tr>\n",
       "      <th>665266</th>\n",
       "      <td>9894955795481014038</td>\n",
       "      <td>9.0</td>\n",
       "      <td>1.0</td>\n",
       "      <td>1.0</td>\n",
       "      <td>0.000000e+00</td>\n",
       "      <td>Venezuela</td>\n",
       "      <td>Organic Search</td>\n",
       "      <td>South America</td>\n",
       "    </tr>\n",
       "  </tbody>\n",
       "</table>\n",
       "</div>"
      ],
      "text/plain": [
       "              fullVisitorId  visitNumber  pageView/hit  predBuy  \\\n",
       "600775  5526675926038480325          1.0           0.9      1.0   \n",
       "321795  7344519175727343086         25.0           0.9      1.0   \n",
       "321462   743123551680199202          3.0           0.9      1.0   \n",
       "838596  9894955795481014038         12.0           1.0      1.0   \n",
       "456141  9264804092676520813          2.0           0.9      1.0   \n",
       "456142  3924372865099736100          1.0           0.9      1.0   \n",
       "321461  2920116282116200226          2.0           0.9      1.0   \n",
       "88736   6879336706336070910          1.0           0.8      1.0   \n",
       "138750  8942866004645538967          1.0           0.9      1.0   \n",
       "665266  9894955795481014038          9.0           1.0      1.0   \n",
       "\n",
       "        totals.transactionRevenue geoNetwork.country channelGrouping  \\\n",
       "600775               8.796000e+07      United States          Direct   \n",
       "321795               1.684900e+08          Venezuela  Organic Search   \n",
       "321462               9.098000e+07          Venezuela          Social   \n",
       "838596               0.000000e+00          Venezuela  Organic Search   \n",
       "456141               1.520530e+09          Venezuela  Organic Search   \n",
       "456142               1.720930e+09          Venezuela  Organic Search   \n",
       "321461               8.887000e+07      United States          Social   \n",
       "88736                1.339500e+08          Venezuela        Referral   \n",
       "138750               4.719200e+08      United States          Direct   \n",
       "665266               0.000000e+00          Venezuela  Organic Search   \n",
       "\n",
       "       geoNetwork.subContinent  \n",
       "600775        Northern America  \n",
       "321795           South America  \n",
       "321462           South America  \n",
       "838596           South America  \n",
       "456141           South America  \n",
       "456142           South America  \n",
       "321461        Northern America  \n",
       "88736            South America  \n",
       "138750        Northern America  \n",
       "665266           South America  "
      ]
     },
     "execution_count": 252,
     "metadata": {},
     "output_type": "execute_result"
    }
   ],
   "source": [
    "buyerRank[['fullVisitorId','visitNumber','pageView/hit','predBuy','totals.transactionRevenue','geoNetwork.country','channelGrouping','geoNetwork.subContinent']].head(10)\n",
    "           \n",
    "           "
   ]
  },
  {
   "cell_type": "code",
   "execution_count": 249,
   "metadata": {},
   "outputs": [
    {
     "data": {
      "text/plain": [
       "600775    5526675926038480325\n",
       "321795    7344519175727343086\n",
       "321462     743123551680199202\n",
       "838596    9894955795481014038\n",
       "456141    9264804092676520813\n",
       "456142    3924372865099736100\n",
       "321461    2920116282116200226\n",
       "88736     6879336706336070910\n",
       "138750    8942866004645538967\n",
       "665266    9894955795481014038\n",
       "Name: fullVisitorId, dtype: object"
      ]
     },
     "execution_count": 249,
     "metadata": {},
     "output_type": "execute_result"
    }
   ],
   "source": [
    "buyerRank['fullVisitorId'].head(10)"
   ]
  },
  {
   "cell_type": "code",
   "execution_count": 98,
   "metadata": {},
   "outputs": [
    {
     "data": {
      "text/plain": [
       "Index(['ContryCode', 'Economy', 'Gdp2017', 'Gdp2016', 'Unnamed: 4'], dtype='object')"
      ]
     },
     "execution_count": 98,
     "metadata": {},
     "output_type": "execute_result"
    }
   ],
   "source": [
    "gdp = pd.read_csv(\"/Users/krapi/Desktop/gdpData.csv\")\n",
    "gdp.columns"
   ]
  },
  {
   "cell_type": "code",
   "execution_count": 99,
   "metadata": {},
   "outputs": [
    {
     "data": {
      "text/plain": [
       "195"
      ]
     },
     "execution_count": 99,
     "metadata": {},
     "output_type": "execute_result"
    }
   ],
   "source": [
    "countries = gdp['Economy']\n",
    "dataCountry = data['geoNetwork.country']\n",
    "common = list(set(countries) & set(dataCountry))\n",
    "len(common)\n"
   ]
  },
  {
   "cell_type": "code",
   "execution_count": 100,
   "metadata": {},
   "outputs": [],
   "source": [
    "code_dict = dict(zip(gdp.Economy, gdp.ContryCode))\n",
    "dataCode = {}\n",
    "for each in common :\n",
    "    dataCode[each] = code_dict[each]"
   ]
  },
  {
   "cell_type": "code",
   "execution_count": 101,
   "metadata": {},
   "outputs": [],
   "source": [
    "codesToAdd  = []\n",
    "keys_ = dataCode.keys()\n",
    "for each in data['geoNetwork.country']:\n",
    "    if each in keys_:\n",
    "        codesToAdd.append(dataCode[each])\n",
    "    else:\n",
    "        codesToAdd.append('NotYet')"
   ]
  },
  {
   "cell_type": "code",
   "execution_count": 102,
   "metadata": {},
   "outputs": [],
   "source": [
    "predData['CountryCode'] = pd.Series(codesToAdd)"
   ]
  },
  {
   "cell_type": "code",
   "execution_count": 112,
   "metadata": {},
   "outputs": [],
   "source": [
    "year16full = predData.loc[predData['year']==2016].reset_index()"
   ]
  },
  {
   "cell_type": "code",
   "execution_count": 113,
   "metadata": {},
   "outputs": [],
   "source": [
    "year17full = predData.loc[predData['year']==2017].reset_index()"
   ]
  },
  {
   "cell_type": "code",
   "execution_count": 114,
   "metadata": {},
   "outputs": [
    {
     "data": {
      "text/plain": [
       "903653"
      ]
     },
     "execution_count": 114,
     "metadata": {},
     "output_type": "execute_result"
    }
   ],
   "source": [
    "len(year16full) + len(year17full)"
   ]
  },
  {
   "cell_type": "code",
   "execution_count": 115,
   "metadata": {},
   "outputs": [],
   "source": [
    "gdp16dict = dict(zip(gdp.ContryCode, gdp.Gdp2016))\n",
    "gdp17dict = dict(zip(gdp.ContryCode, gdp.Gdp2017))\n",
    "gdp16dict['NotYet'] =\"\"\n",
    "gdp17dict['NotYet'] =\"\""
   ]
  },
  {
   "cell_type": "code",
   "execution_count": 118,
   "metadata": {},
   "outputs": [],
   "source": [
    "g16full=[]\n",
    "keys_ = gdp16dict.keys()\n",
    "for each in year16full['CountryCode']:\n",
    "    if each in keys_:\n",
    "        g16full.append(gdp16dict[each])\n"
   ]
  },
  {
   "cell_type": "code",
   "execution_count": 121,
   "metadata": {},
   "outputs": [],
   "source": [
    "g17full=[]\n",
    "keys_ = gdp17dict.keys()\n",
    "for each in year17full['CountryCode']:\n",
    "    if each in keys_:\n",
    "        g17full.append(gdp17dict[each])\n",
    "    "
   ]
  },
  {
   "cell_type": "code",
   "execution_count": 122,
   "metadata": {},
   "outputs": [],
   "source": [
    "year16full['gdp'] = pd.Series(g16full)\n",
    "year17full['gdp'] = pd.Series(g17full)\n",
    "gdpDataAddedfull = pd.concat([year16full, year17full])"
   ]
  },
  {
   "cell_type": "code",
   "execution_count": 124,
   "metadata": {},
   "outputs": [],
   "source": [
    "gdpDataAddedfull['gdp'].replace('',0.1,inplace = True)\n",
    "gdpDataAddedfull['gdp']=gdpDataAddedfull['gdp'].astype(float)"
   ]
  },
  {
   "cell_type": "code",
   "execution_count": 126,
   "metadata": {},
   "outputs": [],
   "source": [
    "gdpDataAddedfull.drop('index',axis=1,inplace=True)"
   ]
  },
  {
   "cell_type": "code",
   "execution_count": 127,
   "metadata": {},
   "outputs": [],
   "source": [
    "probFeaturesGdp = ['visitNumber','totals.hits','totals.pageviews','pageView/hit','gdp']"
   ]
  },
  {
   "cell_type": "code",
   "execution_count": 136,
   "metadata": {},
   "outputs": [],
   "source": [
    "gdpDataAddedfull['gdp'].replace('',0.1,inplace = True)\n",
    "gdpDataAddedfull['gdp']=gdpDataAddedfull['gdp'].astype(float)\n",
    "gdpDataAddedfull['gdp'].fillna(0.0,inplace=True)"
   ]
  },
  {
   "cell_type": "code",
   "execution_count": 259,
   "metadata": {},
   "outputs": [
    {
     "data": {
      "text/html": [
       "<div>\n",
       "<style scoped>\n",
       "    .dataframe tbody tr th:only-of-type {\n",
       "        vertical-align: middle;\n",
       "    }\n",
       "\n",
       "    .dataframe tbody tr th {\n",
       "        vertical-align: top;\n",
       "    }\n",
       "\n",
       "    .dataframe thead th {\n",
       "        text-align: right;\n",
       "    }\n",
       "</style>\n",
       "<table border=\"1\" class=\"dataframe\">\n",
       "  <thead>\n",
       "    <tr style=\"text-align: right;\">\n",
       "      <th></th>\n",
       "      <th>totals.transactionRevenue</th>\n",
       "      <th>gdp</th>\n",
       "    </tr>\n",
       "  </thead>\n",
       "  <tbody>\n",
       "    <tr>\n",
       "      <th>totals.transactionRevenue</th>\n",
       "      <td>1.000000</td>\n",
       "      <td>0.469327</td>\n",
       "    </tr>\n",
       "    <tr>\n",
       "      <th>gdp</th>\n",
       "      <td>0.469327</td>\n",
       "      <td>1.000000</td>\n",
       "    </tr>\n",
       "  </tbody>\n",
       "</table>\n",
       "</div>"
      ],
      "text/plain": [
       "                           totals.transactionRevenue       gdp\n",
       "totals.transactionRevenue                   1.000000  0.469327\n",
       "gdp                                         0.469327  1.000000"
      ]
     },
     "execution_count": 259,
     "metadata": {},
     "output_type": "execute_result"
    }
   ],
   "source": [
    "countGDp = gdpDataAddedfull.groupby('CountryCode').agg({\"totals.transactionRevenue\": \"sum\",'gdp':'mean'}).reset_index()\n",
    "countGDp.corr()"
   ]
  },
  {
   "cell_type": "code",
   "execution_count": 191,
   "metadata": {},
   "outputs": [
    {
     "data": {
      "text/html": [
       "<div>\n",
       "<style scoped>\n",
       "    .dataframe tbody tr th:only-of-type {\n",
       "        vertical-align: middle;\n",
       "    }\n",
       "\n",
       "    .dataframe tbody tr th {\n",
       "        vertical-align: top;\n",
       "    }\n",
       "\n",
       "    .dataframe thead th {\n",
       "        text-align: right;\n",
       "    }\n",
       "</style>\n",
       "<table border=\"1\" class=\"dataframe\">\n",
       "  <thead>\n",
       "    <tr style=\"text-align: right;\">\n",
       "      <th></th>\n",
       "      <th>visitNumber</th>\n",
       "      <th>visitStartTime</th>\n",
       "      <th>totals.bounces</th>\n",
       "      <th>totals.hits</th>\n",
       "      <th>totals.newVisits</th>\n",
       "      <th>totals.pageviews</th>\n",
       "      <th>totals.visits</th>\n",
       "      <th>month</th>\n",
       "      <th>day</th>\n",
       "      <th>weekday</th>\n",
       "      <th>year</th>\n",
       "    </tr>\n",
       "  </thead>\n",
       "  <tbody>\n",
       "    <tr>\n",
       "      <th>count</th>\n",
       "      <td>804684.000000</td>\n",
       "      <td>8.046840e+05</td>\n",
       "      <td>804684.000000</td>\n",
       "      <td>804684.000000</td>\n",
       "      <td>804684.000000</td>\n",
       "      <td>804684.000000</td>\n",
       "      <td>804684.0</td>\n",
       "      <td>804684.000000</td>\n",
       "      <td>804684.000000</td>\n",
       "      <td>804684.000000</td>\n",
       "      <td>804684.000000</td>\n",
       "    </tr>\n",
       "    <tr>\n",
       "      <th>mean</th>\n",
       "      <td>2.414087</td>\n",
       "      <td>1.513339e+09</td>\n",
       "      <td>0.523122</td>\n",
       "      <td>4.242126</td>\n",
       "      <td>0.751065</td>\n",
       "      <td>3.523133</td>\n",
       "      <td>1.0</td>\n",
       "      <td>6.852627</td>\n",
       "      <td>15.648780</td>\n",
       "      <td>2.734439</td>\n",
       "      <td>2017.426359</td>\n",
       "    </tr>\n",
       "    <tr>\n",
       "      <th>std</th>\n",
       "      <td>9.431737</td>\n",
       "      <td>6.676000e+06</td>\n",
       "      <td>0.499465</td>\n",
       "      <td>8.196982</td>\n",
       "      <td>0.432396</td>\n",
       "      <td>5.785698</td>\n",
       "      <td>0.0</td>\n",
       "      <td>3.953612</td>\n",
       "      <td>8.584767</td>\n",
       "      <td>1.927712</td>\n",
       "      <td>0.494548</td>\n",
       "    </tr>\n",
       "    <tr>\n",
       "      <th>min</th>\n",
       "      <td>1.000000</td>\n",
       "      <td>1.501657e+09</td>\n",
       "      <td>0.000000</td>\n",
       "      <td>1.000000</td>\n",
       "      <td>0.000000</td>\n",
       "      <td>0.000000</td>\n",
       "      <td>1.0</td>\n",
       "      <td>1.000000</td>\n",
       "      <td>1.000000</td>\n",
       "      <td>0.000000</td>\n",
       "      <td>2017.000000</td>\n",
       "    </tr>\n",
       "    <tr>\n",
       "      <th>25%</th>\n",
       "      <td>1.000000</td>\n",
       "      <td>1.507548e+09</td>\n",
       "      <td>0.000000</td>\n",
       "      <td>1.000000</td>\n",
       "      <td>1.000000</td>\n",
       "      <td>1.000000</td>\n",
       "      <td>1.0</td>\n",
       "      <td>3.000000</td>\n",
       "      <td>8.000000</td>\n",
       "      <td>1.000000</td>\n",
       "      <td>2017.000000</td>\n",
       "    </tr>\n",
       "    <tr>\n",
       "      <th>50%</th>\n",
       "      <td>1.000000</td>\n",
       "      <td>1.513125e+09</td>\n",
       "      <td>1.000000</td>\n",
       "      <td>1.000000</td>\n",
       "      <td>1.000000</td>\n",
       "      <td>1.000000</td>\n",
       "      <td>1.0</td>\n",
       "      <td>8.000000</td>\n",
       "      <td>15.000000</td>\n",
       "      <td>3.000000</td>\n",
       "      <td>2017.000000</td>\n",
       "    </tr>\n",
       "    <tr>\n",
       "      <th>75%</th>\n",
       "      <td>1.000000</td>\n",
       "      <td>1.519227e+09</td>\n",
       "      <td>1.000000</td>\n",
       "      <td>4.000000</td>\n",
       "      <td>1.000000</td>\n",
       "      <td>4.000000</td>\n",
       "      <td>1.0</td>\n",
       "      <td>10.000000</td>\n",
       "      <td>23.000000</td>\n",
       "      <td>4.000000</td>\n",
       "      <td>2018.000000</td>\n",
       "    </tr>\n",
       "    <tr>\n",
       "      <th>max</th>\n",
       "      <td>457.000000</td>\n",
       "      <td>1.525158e+09</td>\n",
       "      <td>1.000000</td>\n",
       "      <td>500.000000</td>\n",
       "      <td>1.000000</td>\n",
       "      <td>500.000000</td>\n",
       "      <td>1.0</td>\n",
       "      <td>12.000000</td>\n",
       "      <td>31.000000</td>\n",
       "      <td>6.000000</td>\n",
       "      <td>2018.000000</td>\n",
       "    </tr>\n",
       "  </tbody>\n",
       "</table>\n",
       "</div>"
      ],
      "text/plain": [
       "         visitNumber  visitStartTime  totals.bounces    totals.hits  \\\n",
       "count  804684.000000    8.046840e+05   804684.000000  804684.000000   \n",
       "mean        2.414087    1.513339e+09        0.523122       4.242126   \n",
       "std         9.431737    6.676000e+06        0.499465       8.196982   \n",
       "min         1.000000    1.501657e+09        0.000000       1.000000   \n",
       "25%         1.000000    1.507548e+09        0.000000       1.000000   \n",
       "50%         1.000000    1.513125e+09        1.000000       1.000000   \n",
       "75%         1.000000    1.519227e+09        1.000000       4.000000   \n",
       "max       457.000000    1.525158e+09        1.000000     500.000000   \n",
       "\n",
       "       totals.newVisits  totals.pageviews  totals.visits          month  \\\n",
       "count     804684.000000     804684.000000       804684.0  804684.000000   \n",
       "mean           0.751065          3.523133            1.0       6.852627   \n",
       "std            0.432396          5.785698            0.0       3.953612   \n",
       "min            0.000000          0.000000            1.0       1.000000   \n",
       "25%            1.000000          1.000000            1.0       3.000000   \n",
       "50%            1.000000          1.000000            1.0       8.000000   \n",
       "75%            1.000000          4.000000            1.0      10.000000   \n",
       "max            1.000000        500.000000            1.0      12.000000   \n",
       "\n",
       "                 day        weekday           year  \n",
       "count  804684.000000  804684.000000  804684.000000  \n",
       "mean       15.648780       2.734439    2017.426359  \n",
       "std         8.584767       1.927712       0.494548  \n",
       "min         1.000000       0.000000    2017.000000  \n",
       "25%         8.000000       1.000000    2017.000000  \n",
       "50%        15.000000       3.000000    2017.000000  \n",
       "75%        23.000000       4.000000    2018.000000  \n",
       "max        31.000000       6.000000    2018.000000  "
      ]
     },
     "execution_count": 191,
     "metadata": {},
     "output_type": "execute_result"
    }
   ],
   "source": [
    "testData.describe()"
   ]
  },
  {
   "cell_type": "code",
   "execution_count": 137,
   "metadata": {},
   "outputs": [],
   "source": [
    "logReg = LogisticRegression()\n",
    "regModel = logReg.fit(gdpDataAddedfull[probFeaturesGdp],gdpDataAddedfull['isBuy'])"
   ]
  },
  {
   "cell_type": "code",
   "execution_count": 138,
   "metadata": {},
   "outputs": [
    {
     "data": {
      "text/plain": [
       "{'visitNumber': -0.002239431085167076,\n",
       " 'totals.hits': -0.21604857134918357,\n",
       " 'totals.pageviews': 0.38334052533213625,\n",
       " 'pageView/hit': -3.4887286344330835}"
      ]
     },
     "execution_count": 138,
     "metadata": {},
     "output_type": "execute_result"
    }
   ],
   "source": [
    "featureWeight={}\n",
    "i=0;\n",
    "for each in probFeatures:\n",
    "    featureWeight[each] = regModel.coef_[0][i]\n",
    "    i=i+1\n",
    "\n",
    "featureWeight"
   ]
  },
  {
   "cell_type": "code",
   "execution_count": 139,
   "metadata": {},
   "outputs": [],
   "source": [
    "probScore = 0.0032*gdpDataAddedfull['visitNumber'] +(-0.2426)*gdpDataAddedfull['totals.hits']+ 0.4315 * gdpDataAddedfull['totals.pageviews']+(-3.0799)*gdpDataAddedfull['pageView/hit']\n",
    "probScore = probScore + (0.0003)* gdpDataAddedfull['gdp']\n",
    "prob =[]\n",
    "for each in probScore:\n",
    "    prob.append(sigmoid(each))\n",
    "gdpDataAddedfull['predBuy'] = pd.Series(prob)\n"
   ]
  },
  {
   "cell_type": "code",
   "execution_count": 141,
   "metadata": {},
   "outputs": [],
   "source": [
    "predFeaturesGdp = predFeatures\n",
    "predFeaturesGdp.append('gdp')"
   ]
  },
  {
   "cell_type": "code",
   "execution_count": 142,
   "metadata": {},
   "outputs": [],
   "source": [
    "buyerRankGDP = gdpDataAddedfull[predFeaturesGdp].sort_values(by='predBuy',ascending=False,axis=0)"
   ]
  },
  {
   "cell_type": "code",
   "execution_count": 260,
   "metadata": {},
   "outputs": [
    {
     "data": {
      "text/html": [
       "<div>\n",
       "<style scoped>\n",
       "    .dataframe tbody tr th:only-of-type {\n",
       "        vertical-align: middle;\n",
       "    }\n",
       "\n",
       "    .dataframe tbody tr th {\n",
       "        vertical-align: top;\n",
       "    }\n",
       "\n",
       "    .dataframe thead th {\n",
       "        text-align: right;\n",
       "    }\n",
       "</style>\n",
       "<table border=\"1\" class=\"dataframe\">\n",
       "  <thead>\n",
       "    <tr style=\"text-align: right;\">\n",
       "      <th></th>\n",
       "      <th>fullVisitorId</th>\n",
       "      <th>visitNumber</th>\n",
       "      <th>pageView/hit</th>\n",
       "      <th>gdp</th>\n",
       "      <th>predBuy</th>\n",
       "      <th>totals.transactionRevenue</th>\n",
       "      <th>geoNetwork.country</th>\n",
       "    </tr>\n",
       "  </thead>\n",
       "  <tbody>\n",
       "    <tr>\n",
       "      <th>242661</th>\n",
       "      <td>7013004979695823802</td>\n",
       "      <td>1.0</td>\n",
       "      <td>0.9</td>\n",
       "      <td>1015.539</td>\n",
       "      <td>1.0</td>\n",
       "      <td>0.000000e+00</td>\n",
       "      <td>Indonesia</td>\n",
       "    </tr>\n",
       "    <tr>\n",
       "      <th>169345</th>\n",
       "      <td>2920116282116200226</td>\n",
       "      <td>2.0</td>\n",
       "      <td>0.9</td>\n",
       "      <td>18624.450</td>\n",
       "      <td>1.0</td>\n",
       "      <td>8.887000e+07</td>\n",
       "      <td>United States</td>\n",
       "    </tr>\n",
       "    <tr>\n",
       "      <th>344385</th>\n",
       "      <td>3304629535618457786</td>\n",
       "      <td>1.0</td>\n",
       "      <td>1.0</td>\n",
       "      <td>19390.604</td>\n",
       "      <td>1.0</td>\n",
       "      <td>0.000000e+00</td>\n",
       "      <td>United States</td>\n",
       "    </tr>\n",
       "    <tr>\n",
       "      <th>169346</th>\n",
       "      <td>743123551680199202</td>\n",
       "      <td>3.0</td>\n",
       "      <td>0.9</td>\n",
       "      <td>236.116</td>\n",
       "      <td>1.0</td>\n",
       "      <td>9.098000e+07</td>\n",
       "      <td>Venezuela</td>\n",
       "    </tr>\n",
       "    <tr>\n",
       "      <th>408482</th>\n",
       "      <td>9894955795481014038</td>\n",
       "      <td>12.0</td>\n",
       "      <td>1.0</td>\n",
       "      <td>236.116</td>\n",
       "      <td>1.0</td>\n",
       "      <td>0.000000e+00</td>\n",
       "      <td>Venezuela</td>\n",
       "    </tr>\n",
       "    <tr>\n",
       "      <th>344385</th>\n",
       "      <td>9894955795481014038</td>\n",
       "      <td>9.0</td>\n",
       "      <td>1.0</td>\n",
       "      <td>236.116</td>\n",
       "      <td>1.0</td>\n",
       "      <td>0.000000e+00</td>\n",
       "      <td>Venezuela</td>\n",
       "    </tr>\n",
       "    <tr>\n",
       "      <th>242660</th>\n",
       "      <td>9264804092676520813</td>\n",
       "      <td>2.0</td>\n",
       "      <td>0.9</td>\n",
       "      <td>236.116</td>\n",
       "      <td>1.0</td>\n",
       "      <td>1.520530e+09</td>\n",
       "      <td>Venezuela</td>\n",
       "    </tr>\n",
       "    <tr>\n",
       "      <th>408482</th>\n",
       "      <td>4993227930471422967</td>\n",
       "      <td>1.0</td>\n",
       "      <td>1.0</td>\n",
       "      <td>1149.919</td>\n",
       "      <td>1.0</td>\n",
       "      <td>0.000000e+00</td>\n",
       "      <td>Mexico</td>\n",
       "    </tr>\n",
       "    <tr>\n",
       "      <th>242660</th>\n",
       "      <td>6556009127483757834</td>\n",
       "      <td>2.0</td>\n",
       "      <td>0.6</td>\n",
       "      <td>19390.604</td>\n",
       "      <td>1.0</td>\n",
       "      <td>0.000000e+00</td>\n",
       "      <td>United States</td>\n",
       "    </tr>\n",
       "    <tr>\n",
       "      <th>169345</th>\n",
       "      <td>1906750689417215457</td>\n",
       "      <td>1.0</td>\n",
       "      <td>1.0</td>\n",
       "      <td>3677.439</td>\n",
       "      <td>1.0</td>\n",
       "      <td>0.000000e+00</td>\n",
       "      <td>Germany</td>\n",
       "    </tr>\n",
       "  </tbody>\n",
       "</table>\n",
       "</div>"
      ],
      "text/plain": [
       "              fullVisitorId  visitNumber  pageView/hit        gdp  predBuy  \\\n",
       "242661  7013004979695823802          1.0           0.9   1015.539      1.0   \n",
       "169345  2920116282116200226          2.0           0.9  18624.450      1.0   \n",
       "344385  3304629535618457786          1.0           1.0  19390.604      1.0   \n",
       "169346   743123551680199202          3.0           0.9    236.116      1.0   \n",
       "408482  9894955795481014038         12.0           1.0    236.116      1.0   \n",
       "344385  9894955795481014038          9.0           1.0    236.116      1.0   \n",
       "242660  9264804092676520813          2.0           0.9    236.116      1.0   \n",
       "408482  4993227930471422967          1.0           1.0   1149.919      1.0   \n",
       "242660  6556009127483757834          2.0           0.6  19390.604      1.0   \n",
       "169345  1906750689417215457          1.0           1.0   3677.439      1.0   \n",
       "\n",
       "        totals.transactionRevenue geoNetwork.country  \n",
       "242661               0.000000e+00          Indonesia  \n",
       "169345               8.887000e+07      United States  \n",
       "344385               0.000000e+00      United States  \n",
       "169346               9.098000e+07          Venezuela  \n",
       "408482               0.000000e+00          Venezuela  \n",
       "344385               0.000000e+00          Venezuela  \n",
       "242660               1.520530e+09          Venezuela  \n",
       "408482               0.000000e+00             Mexico  \n",
       "242660               0.000000e+00      United States  \n",
       "169345               0.000000e+00            Germany  "
      ]
     },
     "execution_count": 260,
     "metadata": {},
     "output_type": "execute_result"
    }
   ],
   "source": [
    "buyerRankGDP[['fullVisitorId','visitNumber','pageView/hit','gdp','predBuy','totals.transactionRevenue','geoNetwork.country']].head(10)"
   ]
  },
  {
   "cell_type": "code",
   "execution_count": 146,
   "metadata": {},
   "outputs": [],
   "source": [
    "def normalize_values(values):\n",
    "    data_normal = (values - min(values)) / (max(values) - min(values))\n",
    "    return data_normal"
   ]
  },
  {
   "cell_type": "code",
   "execution_count": 147,
   "metadata": {},
   "outputs": [],
   "source": [
    "data['totals.hits'] = normalize_values(data['totals.hits'])\n",
    "data['totals.pageviews'] = normalize_values(data['totals.pageviews'])\n",
    "data['visitNumber'] = normalize_values(data['visitNumber'])\n"
   ]
  },
  {
   "cell_type": "code",
   "execution_count": 192,
   "metadata": {},
   "outputs": [],
   "source": [
    "testData['pageView/hit']=np.round(testData['totals.pageviews'].astype(float) / testData['totals.hits'].astype(float),decimals=1)"
   ]
  },
  {
   "cell_type": "code",
   "execution_count": 193,
   "metadata": {},
   "outputs": [
    {
     "data": {
      "text/html": [
       "<div>\n",
       "<style scoped>\n",
       "    .dataframe tbody tr th:only-of-type {\n",
       "        vertical-align: middle;\n",
       "    }\n",
       "\n",
       "    .dataframe tbody tr th {\n",
       "        vertical-align: top;\n",
       "    }\n",
       "\n",
       "    .dataframe thead th {\n",
       "        text-align: right;\n",
       "    }\n",
       "</style>\n",
       "<table border=\"1\" class=\"dataframe\">\n",
       "  <thead>\n",
       "    <tr style=\"text-align: right;\">\n",
       "      <th></th>\n",
       "      <th>visitNumber</th>\n",
       "      <th>visitStartTime</th>\n",
       "      <th>totals.bounces</th>\n",
       "      <th>totals.hits</th>\n",
       "      <th>totals.newVisits</th>\n",
       "      <th>totals.pageviews</th>\n",
       "      <th>totals.visits</th>\n",
       "      <th>month</th>\n",
       "      <th>day</th>\n",
       "      <th>weekday</th>\n",
       "      <th>year</th>\n",
       "      <th>pageView/hit</th>\n",
       "    </tr>\n",
       "  </thead>\n",
       "  <tbody>\n",
       "    <tr>\n",
       "      <th>count</th>\n",
       "      <td>804684.000000</td>\n",
       "      <td>8.046840e+05</td>\n",
       "      <td>804684.000000</td>\n",
       "      <td>804684.000000</td>\n",
       "      <td>804684.000000</td>\n",
       "      <td>804684.000000</td>\n",
       "      <td>804684.0</td>\n",
       "      <td>804684.000000</td>\n",
       "      <td>804684.000000</td>\n",
       "      <td>804684.000000</td>\n",
       "      <td>804684.000000</td>\n",
       "      <td>804684.000000</td>\n",
       "    </tr>\n",
       "    <tr>\n",
       "      <th>mean</th>\n",
       "      <td>2.414087</td>\n",
       "      <td>1.513339e+09</td>\n",
       "      <td>0.523122</td>\n",
       "      <td>4.242126</td>\n",
       "      <td>0.751065</td>\n",
       "      <td>3.523133</td>\n",
       "      <td>1.0</td>\n",
       "      <td>6.852627</td>\n",
       "      <td>15.648780</td>\n",
       "      <td>2.734439</td>\n",
       "      <td>2017.426359</td>\n",
       "      <td>0.949059</td>\n",
       "    </tr>\n",
       "    <tr>\n",
       "      <th>std</th>\n",
       "      <td>9.431737</td>\n",
       "      <td>6.676000e+06</td>\n",
       "      <td>0.499465</td>\n",
       "      <td>8.196982</td>\n",
       "      <td>0.432396</td>\n",
       "      <td>5.785698</td>\n",
       "      <td>0.0</td>\n",
       "      <td>3.953612</td>\n",
       "      <td>8.584767</td>\n",
       "      <td>1.927712</td>\n",
       "      <td>0.494548</td>\n",
       "      <td>0.123954</td>\n",
       "    </tr>\n",
       "    <tr>\n",
       "      <th>min</th>\n",
       "      <td>1.000000</td>\n",
       "      <td>1.501657e+09</td>\n",
       "      <td>0.000000</td>\n",
       "      <td>1.000000</td>\n",
       "      <td>0.000000</td>\n",
       "      <td>0.000000</td>\n",
       "      <td>1.0</td>\n",
       "      <td>1.000000</td>\n",
       "      <td>1.000000</td>\n",
       "      <td>0.000000</td>\n",
       "      <td>2017.000000</td>\n",
       "      <td>0.000000</td>\n",
       "    </tr>\n",
       "    <tr>\n",
       "      <th>25%</th>\n",
       "      <td>1.000000</td>\n",
       "      <td>1.507548e+09</td>\n",
       "      <td>0.000000</td>\n",
       "      <td>1.000000</td>\n",
       "      <td>1.000000</td>\n",
       "      <td>1.000000</td>\n",
       "      <td>1.0</td>\n",
       "      <td>3.000000</td>\n",
       "      <td>8.000000</td>\n",
       "      <td>1.000000</td>\n",
       "      <td>2017.000000</td>\n",
       "      <td>1.000000</td>\n",
       "    </tr>\n",
       "    <tr>\n",
       "      <th>50%</th>\n",
       "      <td>1.000000</td>\n",
       "      <td>1.513125e+09</td>\n",
       "      <td>1.000000</td>\n",
       "      <td>1.000000</td>\n",
       "      <td>1.000000</td>\n",
       "      <td>1.000000</td>\n",
       "      <td>1.0</td>\n",
       "      <td>8.000000</td>\n",
       "      <td>15.000000</td>\n",
       "      <td>3.000000</td>\n",
       "      <td>2017.000000</td>\n",
       "      <td>1.000000</td>\n",
       "    </tr>\n",
       "    <tr>\n",
       "      <th>75%</th>\n",
       "      <td>1.000000</td>\n",
       "      <td>1.519227e+09</td>\n",
       "      <td>1.000000</td>\n",
       "      <td>4.000000</td>\n",
       "      <td>1.000000</td>\n",
       "      <td>4.000000</td>\n",
       "      <td>1.0</td>\n",
       "      <td>10.000000</td>\n",
       "      <td>23.000000</td>\n",
       "      <td>4.000000</td>\n",
       "      <td>2018.000000</td>\n",
       "      <td>1.000000</td>\n",
       "    </tr>\n",
       "    <tr>\n",
       "      <th>max</th>\n",
       "      <td>457.000000</td>\n",
       "      <td>1.525158e+09</td>\n",
       "      <td>1.000000</td>\n",
       "      <td>500.000000</td>\n",
       "      <td>1.000000</td>\n",
       "      <td>500.000000</td>\n",
       "      <td>1.0</td>\n",
       "      <td>12.000000</td>\n",
       "      <td>31.000000</td>\n",
       "      <td>6.000000</td>\n",
       "      <td>2018.000000</td>\n",
       "      <td>1.000000</td>\n",
       "    </tr>\n",
       "  </tbody>\n",
       "</table>\n",
       "</div>"
      ],
      "text/plain": [
       "         visitNumber  visitStartTime  totals.bounces    totals.hits  \\\n",
       "count  804684.000000    8.046840e+05   804684.000000  804684.000000   \n",
       "mean        2.414087    1.513339e+09        0.523122       4.242126   \n",
       "std         9.431737    6.676000e+06        0.499465       8.196982   \n",
       "min         1.000000    1.501657e+09        0.000000       1.000000   \n",
       "25%         1.000000    1.507548e+09        0.000000       1.000000   \n",
       "50%         1.000000    1.513125e+09        1.000000       1.000000   \n",
       "75%         1.000000    1.519227e+09        1.000000       4.000000   \n",
       "max       457.000000    1.525158e+09        1.000000     500.000000   \n",
       "\n",
       "       totals.newVisits  totals.pageviews  totals.visits          month  \\\n",
       "count     804684.000000     804684.000000       804684.0  804684.000000   \n",
       "mean           0.751065          3.523133            1.0       6.852627   \n",
       "std            0.432396          5.785698            0.0       3.953612   \n",
       "min            0.000000          0.000000            1.0       1.000000   \n",
       "25%            1.000000          1.000000            1.0       3.000000   \n",
       "50%            1.000000          1.000000            1.0       8.000000   \n",
       "75%            1.000000          4.000000            1.0      10.000000   \n",
       "max            1.000000        500.000000            1.0      12.000000   \n",
       "\n",
       "                 day        weekday           year   pageView/hit  \n",
       "count  804684.000000  804684.000000  804684.000000  804684.000000  \n",
       "mean       15.648780       2.734439    2017.426359       0.949059  \n",
       "std         8.584767       1.927712       0.494548       0.123954  \n",
       "min         1.000000       0.000000    2017.000000       0.000000  \n",
       "25%         8.000000       1.000000    2017.000000       1.000000  \n",
       "50%        15.000000       3.000000    2017.000000       1.000000  \n",
       "75%        23.000000       4.000000    2018.000000       1.000000  \n",
       "max        31.000000       6.000000    2018.000000       1.000000  "
      ]
     },
     "execution_count": 193,
     "metadata": {},
     "output_type": "execute_result"
    }
   ],
   "source": [
    "testData.describe()"
   ]
  },
  {
   "cell_type": "code",
   "execution_count": 194,
   "metadata": {},
   "outputs": [],
   "source": [
    "testData['totals.hits'] = normalize_values(testData['totals.hits'])\n",
    "testData['totals.pageviews'] = normalize_values(testData['totals.pageviews'])\n",
    "testData['visitNumber'] = normalize_values(testData['visitNumber'])"
   ]
  },
  {
   "cell_type": "code",
   "execution_count": 151,
   "metadata": {},
   "outputs": [],
   "source": [
    "features.remove('date')\n",
    "features.remove('totals.transactionRevenue')\n",
    "features.remove('isBuy')\n",
    "features.remove('predBuy')\n",
    "\n"
   ]
  },
  {
   "cell_type": "code",
   "execution_count": 152,
   "metadata": {},
   "outputs": [],
   "source": [
    "prediction = data"
   ]
  },
  {
   "cell_type": "code",
   "execution_count": 198,
   "metadata": {},
   "outputs": [],
   "source": [
    "from sklearn import preprocessing as pre\n",
    "for each in cat_cols:\n",
    "    le = pre.LabelEncoder()\n",
    "    train_vals = list(data[each].values.astype(str))\n",
    "    test_vals = list(testData[each].values.astype(str))\n",
    "    \n",
    "    le.fit(train_vals + test_vals)\n",
    "    \n",
    "    #prediction[each] = le.transform(train_vals)\n",
    "    testData[each] = le.transform(test_vals)"
   ]
  },
  {
   "cell_type": "code",
   "execution_count": 221,
   "metadata": {},
   "outputs": [],
   "source": [
    "\n",
    "from sklearn.model_selection import train_test_split\n",
    "\n",
    "y = np.log1p(prediction[\"totals.transactionRevenue\"].astype(float))\n",
    "train_x, val_x, train_y, val_y = train_test_split(prediction[features], y, test_size=0.25, random_state=20)"
   ]
  },
  {
   "cell_type": "code",
   "execution_count": 155,
   "metadata": {},
   "outputs": [],
   "source": [
    "from sklearn.linear_model import Ridge\n",
    "ridgeReg = Ridge(alpha=0.8,fit_intercept=True,normalize=True,tol=0.0001)\n",
    "ridgeReg.fit(train_x,train_y)\n",
    "estRidge = ridgeReg.predict(val_x)"
   ]
  },
  {
   "cell_type": "code",
   "execution_count": 158,
   "metadata": {},
   "outputs": [
    {
     "data": {
      "text/plain": [
       "3.451118271621958"
      ]
     },
     "execution_count": 158,
     "metadata": {},
     "output_type": "execute_result"
    }
   ],
   "source": [
    "from sklearn.metrics import mean_squared_error\n",
    "mseRidge = mean_squared_error(val_y,estRidge)\n",
    "mseRidge"
   ]
  },
  {
   "cell_type": "code",
   "execution_count": 174,
   "metadata": {},
   "outputs": [],
   "source": [
    "testData.drop('pageView/hit',inplace=True,axis=1)"
   ]
  },
  {
   "cell_type": "code",
   "execution_count": 175,
   "metadata": {},
   "outputs": [],
   "source": [
    "testData.fillna(0.0,inplace=True)"
   ]
  },
  {
   "cell_type": "code",
   "execution_count": 195,
   "metadata": {},
   "outputs": [
    {
     "data": {
      "text/html": [
       "<div>\n",
       "<style scoped>\n",
       "    .dataframe tbody tr th:only-of-type {\n",
       "        vertical-align: middle;\n",
       "    }\n",
       "\n",
       "    .dataframe tbody tr th {\n",
       "        vertical-align: top;\n",
       "    }\n",
       "\n",
       "    .dataframe thead th {\n",
       "        text-align: right;\n",
       "    }\n",
       "</style>\n",
       "<table border=\"1\" class=\"dataframe\">\n",
       "  <thead>\n",
       "    <tr style=\"text-align: right;\">\n",
       "      <th></th>\n",
       "      <th>visitNumber</th>\n",
       "      <th>visitStartTime</th>\n",
       "      <th>totals.bounces</th>\n",
       "      <th>totals.hits</th>\n",
       "      <th>totals.newVisits</th>\n",
       "      <th>totals.pageviews</th>\n",
       "      <th>totals.visits</th>\n",
       "      <th>month</th>\n",
       "      <th>day</th>\n",
       "      <th>weekday</th>\n",
       "      <th>year</th>\n",
       "      <th>pageView/hit</th>\n",
       "    </tr>\n",
       "  </thead>\n",
       "  <tbody>\n",
       "    <tr>\n",
       "      <th>count</th>\n",
       "      <td>804684.000000</td>\n",
       "      <td>8.046840e+05</td>\n",
       "      <td>804684.000000</td>\n",
       "      <td>804684.000000</td>\n",
       "      <td>804684.000000</td>\n",
       "      <td>804684.000000</td>\n",
       "      <td>804684.0</td>\n",
       "      <td>804684.000000</td>\n",
       "      <td>804684.000000</td>\n",
       "      <td>804684.000000</td>\n",
       "      <td>804684.000000</td>\n",
       "      <td>804684.000000</td>\n",
       "    </tr>\n",
       "    <tr>\n",
       "      <th>mean</th>\n",
       "      <td>0.003101</td>\n",
       "      <td>1.513339e+09</td>\n",
       "      <td>0.523122</td>\n",
       "      <td>0.006497</td>\n",
       "      <td>0.751065</td>\n",
       "      <td>0.007046</td>\n",
       "      <td>1.0</td>\n",
       "      <td>6.852627</td>\n",
       "      <td>15.648780</td>\n",
       "      <td>2.734439</td>\n",
       "      <td>2017.426359</td>\n",
       "      <td>0.949059</td>\n",
       "    </tr>\n",
       "    <tr>\n",
       "      <th>std</th>\n",
       "      <td>0.020684</td>\n",
       "      <td>6.676000e+06</td>\n",
       "      <td>0.499465</td>\n",
       "      <td>0.016427</td>\n",
       "      <td>0.432396</td>\n",
       "      <td>0.011571</td>\n",
       "      <td>0.0</td>\n",
       "      <td>3.953612</td>\n",
       "      <td>8.584767</td>\n",
       "      <td>1.927712</td>\n",
       "      <td>0.494548</td>\n",
       "      <td>0.123954</td>\n",
       "    </tr>\n",
       "    <tr>\n",
       "      <th>min</th>\n",
       "      <td>0.000000</td>\n",
       "      <td>1.501657e+09</td>\n",
       "      <td>0.000000</td>\n",
       "      <td>0.000000</td>\n",
       "      <td>0.000000</td>\n",
       "      <td>0.000000</td>\n",
       "      <td>1.0</td>\n",
       "      <td>1.000000</td>\n",
       "      <td>1.000000</td>\n",
       "      <td>0.000000</td>\n",
       "      <td>2017.000000</td>\n",
       "      <td>0.000000</td>\n",
       "    </tr>\n",
       "    <tr>\n",
       "      <th>25%</th>\n",
       "      <td>0.000000</td>\n",
       "      <td>1.507548e+09</td>\n",
       "      <td>0.000000</td>\n",
       "      <td>0.000000</td>\n",
       "      <td>1.000000</td>\n",
       "      <td>0.002000</td>\n",
       "      <td>1.0</td>\n",
       "      <td>3.000000</td>\n",
       "      <td>8.000000</td>\n",
       "      <td>1.000000</td>\n",
       "      <td>2017.000000</td>\n",
       "      <td>1.000000</td>\n",
       "    </tr>\n",
       "    <tr>\n",
       "      <th>50%</th>\n",
       "      <td>0.000000</td>\n",
       "      <td>1.513125e+09</td>\n",
       "      <td>1.000000</td>\n",
       "      <td>0.000000</td>\n",
       "      <td>1.000000</td>\n",
       "      <td>0.002000</td>\n",
       "      <td>1.0</td>\n",
       "      <td>8.000000</td>\n",
       "      <td>15.000000</td>\n",
       "      <td>3.000000</td>\n",
       "      <td>2017.000000</td>\n",
       "      <td>1.000000</td>\n",
       "    </tr>\n",
       "    <tr>\n",
       "      <th>75%</th>\n",
       "      <td>0.000000</td>\n",
       "      <td>1.519227e+09</td>\n",
       "      <td>1.000000</td>\n",
       "      <td>0.006012</td>\n",
       "      <td>1.000000</td>\n",
       "      <td>0.008000</td>\n",
       "      <td>1.0</td>\n",
       "      <td>10.000000</td>\n",
       "      <td>23.000000</td>\n",
       "      <td>4.000000</td>\n",
       "      <td>2018.000000</td>\n",
       "      <td>1.000000</td>\n",
       "    </tr>\n",
       "    <tr>\n",
       "      <th>max</th>\n",
       "      <td>1.000000</td>\n",
       "      <td>1.525158e+09</td>\n",
       "      <td>1.000000</td>\n",
       "      <td>1.000000</td>\n",
       "      <td>1.000000</td>\n",
       "      <td>1.000000</td>\n",
       "      <td>1.0</td>\n",
       "      <td>12.000000</td>\n",
       "      <td>31.000000</td>\n",
       "      <td>6.000000</td>\n",
       "      <td>2018.000000</td>\n",
       "      <td>1.000000</td>\n",
       "    </tr>\n",
       "  </tbody>\n",
       "</table>\n",
       "</div>"
      ],
      "text/plain": [
       "         visitNumber  visitStartTime  totals.bounces    totals.hits  \\\n",
       "count  804684.000000    8.046840e+05   804684.000000  804684.000000   \n",
       "mean        0.003101    1.513339e+09        0.523122       0.006497   \n",
       "std         0.020684    6.676000e+06        0.499465       0.016427   \n",
       "min         0.000000    1.501657e+09        0.000000       0.000000   \n",
       "25%         0.000000    1.507548e+09        0.000000       0.000000   \n",
       "50%         0.000000    1.513125e+09        1.000000       0.000000   \n",
       "75%         0.000000    1.519227e+09        1.000000       0.006012   \n",
       "max         1.000000    1.525158e+09        1.000000       1.000000   \n",
       "\n",
       "       totals.newVisits  totals.pageviews  totals.visits          month  \\\n",
       "count     804684.000000     804684.000000       804684.0  804684.000000   \n",
       "mean           0.751065          0.007046            1.0       6.852627   \n",
       "std            0.432396          0.011571            0.0       3.953612   \n",
       "min            0.000000          0.000000            1.0       1.000000   \n",
       "25%            1.000000          0.002000            1.0       3.000000   \n",
       "50%            1.000000          0.002000            1.0       8.000000   \n",
       "75%            1.000000          0.008000            1.0      10.000000   \n",
       "max            1.000000          1.000000            1.0      12.000000   \n",
       "\n",
       "                 day        weekday           year   pageView/hit  \n",
       "count  804684.000000  804684.000000  804684.000000  804684.000000  \n",
       "mean       15.648780       2.734439    2017.426359       0.949059  \n",
       "std         8.584767       1.927712       0.494548       0.123954  \n",
       "min         1.000000       0.000000    2017.000000       0.000000  \n",
       "25%         8.000000       1.000000    2017.000000       1.000000  \n",
       "50%        15.000000       3.000000    2017.000000       1.000000  \n",
       "75%        23.000000       4.000000    2018.000000       1.000000  \n",
       "max        31.000000       6.000000    2018.000000       1.000000  "
      ]
     },
     "execution_count": 195,
     "metadata": {},
     "output_type": "execute_result"
    }
   ],
   "source": [
    "testData.describe()"
   ]
  },
  {
   "cell_type": "code",
   "execution_count": 201,
   "metadata": {},
   "outputs": [],
   "source": [
    "testPredRidge = ridgeReg.predict(testData[features])\n",
    "testPredRidge[testPredRidge<0] = 0\n",
    "testData['PredictedLogRevenue'] = np.expm1(testPredRidge)\n",
    "subFileRidge = testData.groupby(\"fullVisitorId\").agg({\"PredictedLogRevenue\" : \"sum\"}).reset_index()\n",
    "subFileRidge['PredictedLogRevenue'] = np.log1p(subFileRidge['PredictedLogRevenue'])\n",
    "subFileRidge.to_csv(\"baselineRidge.csv\", index=False)"
   ]
  },
  {
   "cell_type": "code",
   "execution_count": 205,
   "metadata": {},
   "outputs": [
    {
     "data": {
      "text/plain": [
       "DecisionTreeRegressor(criterion='mse', max_depth=None, max_features=None,\n",
       "           max_leaf_nodes=None, min_impurity_decrease=0.0,\n",
       "           min_impurity_split=None, min_samples_leaf=1,\n",
       "           min_samples_split=2, min_weight_fraction_leaf=0.0,\n",
       "           presort=False, random_state=None, splitter='best')"
      ]
     },
     "execution_count": 205,
     "metadata": {},
     "output_type": "execute_result"
    }
   ],
   "source": [
    "from sklearn.tree import DecisionTreeRegressor as CART\n",
    "tree = CART()\n",
    "tree.fit(train_x,train_y)"
   ]
  },
  {
   "cell_type": "code",
   "execution_count": 206,
   "metadata": {},
   "outputs": [
    {
     "data": {
      "text/plain": [
       "5.473772288133209"
      ]
     },
     "execution_count": 206,
     "metadata": {},
     "output_type": "execute_result"
    }
   ],
   "source": [
    "estTargetTree = tree.predict(val_x)\n",
    "mseTree = mean_squared_error(val_y,estTargetTree)\n",
    "mseTree"
   ]
  },
  {
   "cell_type": "code",
   "execution_count": 209,
   "metadata": {},
   "outputs": [],
   "source": [
    "testPredTree = tree.predict(testData[features])\n",
    "testPredTree[testPredTree<0] = 0\n",
    "testData['PredictedLogRevenue'] = np.expm1(testPredTree)\n",
    "subFileTree = testData.groupby(\"fullVisitorId\").agg({\"PredictedLogRevenue\" : \"sum\"}).reset_index()\n",
    "subFileTree['PredictedLogRevenue'] = np.log1p(subFileTree['PredictedLogRevenue'])\n",
    "subFileTree.to_csv(\"baselineTree.csv\", index=False)"
   ]
  },
  {
   "cell_type": "code",
   "execution_count": 210,
   "metadata": {},
   "outputs": [
    {
     "data": {
      "text/plain": [
       "4.054499129636844"
      ]
     },
     "execution_count": 210,
     "metadata": {},
     "output_type": "execute_result"
    }
   ],
   "source": [
    "from sklearn.linear_model import Lasso\n",
    "lassoReg = Lasso(alpha=0.8,fit_intercept=True,normalize=True,tol=0.0001)\n",
    "lassoReg.fit(train_x,train_y)\n",
    "estLasso = lassoReg.predict(val_x)\n",
    "mseLasso = mean_squared_error(val_y,estLasso)\n",
    "mseLasso"
   ]
  },
  {
   "cell_type": "code",
   "execution_count": 211,
   "metadata": {},
   "outputs": [],
   "source": [
    "testPredLasso = lassoReg.predict(testData[features])\n",
    "testPredLasso[testPredLasso<0] = 0\n",
    "testData['PredictedLogRevenue'] = np.expm1(testPredLasso)\n",
    "subFileLasso = testData.groupby(\"fullVisitorId\").agg({\"PredictedLogRevenue\" : \"sum\"}).reset_index()\n",
    "subFileLasso['PredictedLogRevenue'] = np.log1p(subFileLasso['PredictedLogRevenue'])\n",
    "subFileLasso.to_csv(\"baselineLasso.csv\", index=False)"
   ]
  },
  {
   "cell_type": "code",
   "execution_count": 222,
   "metadata": {},
   "outputs": [
    {
     "name": "stdout",
     "output_type": "stream",
     "text": [
      "Training until validation scores don't improve for 100 rounds.\n",
      "[100]\tvalid_0's l2: 2.6274\n",
      "[200]\tvalid_0's l2: 2.6048\n",
      "[300]\tvalid_0's l2: 2.60076\n",
      "Early stopping, best iteration is:\n",
      "[273]\tvalid_0's l2: 2.60033\n"
     ]
    }
   ],
   "source": [
    "import lightgbm as lgb \n",
    "\n",
    "lgb_params = {\"objective\" : \"regression\", \"metric\" : \"mse\",\n",
    "              \"num_leaves\" : 36, \"learning_rate\" : 0.05, \"bagging_fraction\" : 0.75, \"feature_fraction\" : 0.7, \"bagging_frequency\" : 8,\"categorical_feature = name\":cat_cols}\n",
    "    \n",
    "lgb_train = lgb.Dataset(train_x, label=train_y)\n",
    "lgb_val = lgb.Dataset(val_x, label=val_y)\n",
    "model = lgb.train(lgb_params, lgb_train, 1000, valid_sets=[lgb_val], early_stopping_rounds=100, verbose_eval=100)"
   ]
  },
  {
   "cell_type": "code",
   "execution_count": 225,
   "metadata": {},
   "outputs": [],
   "source": [
    "testPred = model.predict(testData[features])\n",
    "testPred[testPred<0] = 0\n",
    "testData['PredictedLogRevenue'] = np.expm1(testPred)\n",
    "subFile = testData.groupby(\"fullVisitorId\").agg({\"PredictedLogRevenue\" : \"sum\"}).reset_index()\n",
    "subFile['PredictedLogRevenue'] = np.log1p(subFile['PredictedLogRevenue'])\n",
    "subFile.to_csv(\"sub6.csv\", index=False)"
   ]
  },
  {
   "cell_type": "code",
   "execution_count": 224,
   "metadata": {},
   "outputs": [
    {
     "data": {
      "image/png": "[encoded data removed]",
      "text/plain": [
       "<Figure size 576x432 with 1 Axes>"
      ]
     },
     "metadata": {},
     "output_type": "display_data"
    }
   ],
   "source": [
    "ax = lgb.plot_importance(model,figsize=(8,6),grid=False,height=0.5)"
   ]
  },
  {
   "cell_type": "code",
   "execution_count": 220,
   "metadata": {},
   "outputs": [],
   "source": [
    "features.remove('visitStartTime')"
   ]
  },
  {
   "cell_type": "code",
   "execution_count": 226,
   "metadata": {},
   "outputs": [
    {
     "data": {
      "text/html": [
       "<div>\n",
       "<style scoped>\n",
       "    .dataframe tbody tr th:only-of-type {\n",
       "        vertical-align: middle;\n",
       "    }\n",
       "\n",
       "    .dataframe tbody tr th {\n",
       "        vertical-align: top;\n",
       "    }\n",
       "\n",
       "    .dataframe thead th {\n",
       "        text-align: right;\n",
       "    }\n",
       "</style>\n",
       "<table border=\"1\" class=\"dataframe\">\n",
       "  <thead>\n",
       "    <tr style=\"text-align: right;\">\n",
       "      <th></th>\n",
       "      <th>fullVisitorId</th>\n",
       "      <th>totals.transactionRevenue</th>\n",
       "      <th>logRevenue</th>\n",
       "    </tr>\n",
       "  </thead>\n",
       "  <tbody>\n",
       "    <tr>\n",
       "      <th>0</th>\n",
       "      <td>0000010278554503158</td>\n",
       "      <td>0.0</td>\n",
       "      <td>0.0</td>\n",
       "    </tr>\n",
       "    <tr>\n",
       "      <th>1</th>\n",
       "      <td>0000020424342248747</td>\n",
       "      <td>0.0</td>\n",
       "      <td>0.0</td>\n",
       "    </tr>\n",
       "    <tr>\n",
       "      <th>2</th>\n",
       "      <td>0000027376579751715</td>\n",
       "      <td>0.0</td>\n",
       "      <td>0.0</td>\n",
       "    </tr>\n",
       "    <tr>\n",
       "      <th>3</th>\n",
       "      <td>0000039460501403861</td>\n",
       "      <td>0.0</td>\n",
       "      <td>0.0</td>\n",
       "    </tr>\n",
       "    <tr>\n",
       "      <th>4</th>\n",
       "      <td>0000040862739425590</td>\n",
       "      <td>0.0</td>\n",
       "      <td>0.0</td>\n",
       "    </tr>\n",
       "  </tbody>\n",
       "</table>\n",
       "</div>"
      ],
      "text/plain": [
       "         fullVisitorId  totals.transactionRevenue  logRevenue\n",
       "0  0000010278554503158                        0.0         0.0\n",
       "1  0000020424342248747                        0.0         0.0\n",
       "2  0000027376579751715                        0.0         0.0\n",
       "3  0000039460501403861                        0.0         0.0\n",
       "4  0000040862739425590                        0.0         0.0"
      ]
     },
     "execution_count": 226,
     "metadata": {},
     "output_type": "execute_result"
    }
   ],
   "source": [
    "revSum = data.groupby(\"fullVisitorId\").agg({\"totals.transactionRevenue\" : \"sum\"}).reset_index()\n",
    "revSum['logRevenue'] = np.log1p(revSum['totals.transactionRevenue'])\n",
    "revSum.head()"
   ]
  },
  {
   "cell_type": "code",
   "execution_count": 227,
   "metadata": {},
   "outputs": [
    {
     "data": {
      "text/html": [
       "<div>\n",
       "<style scoped>\n",
       "    .dataframe tbody tr th:only-of-type {\n",
       "        vertical-align: middle;\n",
       "    }\n",
       "\n",
       "    .dataframe tbody tr th {\n",
       "        vertical-align: top;\n",
       "    }\n",
       "\n",
       "    .dataframe thead th {\n",
       "        text-align: right;\n",
       "    }\n",
       "</style>\n",
       "<table border=\"1\" class=\"dataframe\">\n",
       "  <thead>\n",
       "    <tr style=\"text-align: right;\">\n",
       "      <th></th>\n",
       "      <th>fullVisitorId</th>\n",
       "      <th>visitNumber</th>\n",
       "    </tr>\n",
       "  </thead>\n",
       "  <tbody>\n",
       "    <tr>\n",
       "      <th>0</th>\n",
       "      <td>0000010278554503158</td>\n",
       "      <td>0.000000</td>\n",
       "    </tr>\n",
       "    <tr>\n",
       "      <th>1</th>\n",
       "      <td>0000020424342248747</td>\n",
       "      <td>0.000000</td>\n",
       "    </tr>\n",
       "    <tr>\n",
       "      <th>2</th>\n",
       "      <td>0000027376579751715</td>\n",
       "      <td>0.000000</td>\n",
       "    </tr>\n",
       "    <tr>\n",
       "      <th>3</th>\n",
       "      <td>0000039460501403861</td>\n",
       "      <td>0.000000</td>\n",
       "    </tr>\n",
       "    <tr>\n",
       "      <th>4</th>\n",
       "      <td>0000040862739425590</td>\n",
       "      <td>0.002538</td>\n",
       "    </tr>\n",
       "  </tbody>\n",
       "</table>\n",
       "</div>"
      ],
      "text/plain": [
       "         fullVisitorId  visitNumber\n",
       "0  0000010278554503158     0.000000\n",
       "1  0000020424342248747     0.000000\n",
       "2  0000027376579751715     0.000000\n",
       "3  0000039460501403861     0.000000\n",
       "4  0000040862739425590     0.002538"
      ]
     },
     "execution_count": 227,
     "metadata": {},
     "output_type": "execute_result"
    }
   ],
   "source": [
    "visitNum = data.groupby(\"fullVisitorId\").agg({\"visitNumber\" : \"max\"}).reset_index()\n",
    "visitNum.head()"
   ]
  },
  {
   "cell_type": "code",
   "execution_count": 309,
   "metadata": {},
   "outputs": [
    {
     "name": "stdout",
     "output_type": "stream",
     "text": [
      "-4.303241290972008   0.000999000999000999\n"
     ]
    }
   ],
   "source": [
    "from sklearn.model_selection import permutation_test_score as pts\n",
    "score, permutation_scores, pvalue = pts(\n",
    "    ridgeReg, np.array(visitNum['visitNumber']).reshape(-1,1), revSum['logRevenue'], scoring=\"neg_mean_squared_error\", n_permutations=1000, n_jobs=1)\n",
    "print(str(score) + \"   \" + str(pvalue))\n"
   ]
  },
  {
   "cell_type": "code",
   "execution_count": 310,
   "metadata": {},
   "outputs": [
    {
     "name": "stdout",
     "output_type": "stream",
     "text": [
      "-2785610119372755.5   0.9470529470529471\n"
     ]
    }
   ],
   "source": [
    "from sklearn.model_selection import permutation_test_score as pts\n",
    "score, permutation_scores, pvalue = pts(\n",
    "    ridgeReg, np.array(data['day']).reshape(-1,1), (data['totals.transactionRevenue']), scoring=\"neg_mean_squared_error\", n_permutations=1000, n_jobs=1)\n",
    "print(str(score) + \"   \" + str(pvalue))"
   ]
  },
  {
   "cell_type": "code",
   "execution_count": 232,
   "metadata": {},
   "outputs": [
    {
     "name": "stdout",
     "output_type": "stream",
     "text": [
      "-2785574920053406.5   0.004995004995004995\n"
     ]
    }
   ],
   "source": [
    "score, permutation_scores, pvalue = pts(\n",
    "    ridgeReg, np.array(data['trafficSource.campaign']).reshape(-1,1), (data['totals.transactionRevenue']), scoring=\"neg_mean_squared_error\", n_permutations=1000, n_jobs=1)\n",
    "print(str(score) + \"   \" + str(pvalue))\n"
   ]
  },
  {
   "cell_type": "code",
   "execution_count": 233,
   "metadata": {},
   "outputs": [
    {
     "name": "stdout",
     "output_type": "stream",
     "text": [
      "-2785508598782023.5   0.000999000999000999\n"
     ]
    }
   ],
   "source": [
    "score, permutation_scores, pvalue = pts(\n",
    "    ridgeReg, np.array(data['channelGrouping']).reshape(-1,1), data['totals.transactionRevenue'], scoring=\"neg_mean_squared_error\", n_permutations=1000, n_jobs=1)\n",
    "\n",
    "print(str(score) + \"   \" + str(pvalue))"
   ]
  },
  {
   "cell_type": "code",
   "execution_count": 234,
   "metadata": {},
   "outputs": [
    {
     "name": "stdout",
     "output_type": "stream",
     "text": [
      "-2732689616806624.5   0.000999000999000999\n"
     ]
    }
   ],
   "source": [
    "score, permutation_scores, pvalue = pts(\n",
    "    ridgeReg, np.array(data['totals.hits']).reshape(-1,1), data['totals.transactionRevenue'], scoring=\"neg_mean_squared_error\", n_permutations=1000, n_jobs=1)\n",
    "\n",
    "print(str(score) + \"   \" + str(pvalue))"
   ]
  },
  {
   "cell_type": "code",
   "execution_count": 238,
   "metadata": {},
   "outputs": [
    {
     "name": "stdout",
     "output_type": "stream",
     "text": [
      "-2731826895133566.5   0.000999000999000999\n"
     ]
    }
   ],
   "source": [
    "score, permutation_scores, pvalue = pts(\n",
    "    ridgeReg, np.array(data['totals.pageviews']).reshape(-1,1), data['totals.transactionRevenue'], scoring=\"neg_mean_squared_error\", n_permutations=1000, n_jobs=1)\n",
    "\n",
    "print(str(score) + \"   \" + str(pvalue))"
   ]
  },
  {
   "cell_type": "code",
   "execution_count": 240,
   "metadata": {},
   "outputs": [
    {
     "name": "stdout",
     "output_type": "stream",
     "text": [
      "-2780392280406343.5   0.000999000999000999\n"
     ]
    }
   ],
   "source": [
    "score, permutation_scores, pvalue = pts(\n",
    "    ridgeReg, np.array(data['pageView/hit']).reshape(-1,1), data['totals.transactionRevenue'], scoring=\"neg_mean_squared_error\", n_permutations=1000, n_jobs=1)\n",
    "\n",
    "print(str(score) + \"   \" + str(pvalue))"
   ]
  },
  {
   "cell_type": "code",
   "execution_count": 242,
   "metadata": {},
   "outputs": [
    {
     "name": "stdout",
     "output_type": "stream",
     "text": [
      "-2785577115990254.5   0.02197802197802198\n"
     ]
    }
   ],
   "source": [
    "score, permutation_scores, pvalue = pts(\n",
    "    ridgeReg, np.array(data['year']).reshape(-1,1), data['totals.transactionRevenue'], scoring=\"neg_mean_squared_error\", n_permutations=1000, n_jobs=1)\n",
    "\n",
    "print(str(score) + \"   \" + str(pvalue))"
   ]
  },
  {
   "cell_type": "code",
   "execution_count": 243,
   "metadata": {},
   "outputs": [
    {
     "name": "stdout",
     "output_type": "stream",
     "text": [
      "-2785587533806395.0   0.2917082917082917\n"
     ]
    }
   ],
   "source": [
    "score, permutation_scores, pvalue = pts(\n",
    "    ridgeReg, np.array(data['month']).reshape(-1,1), data['totals.transactionRevenue'], scoring=\"neg_mean_squared_error\", n_permutations=1000, n_jobs=1)\n",
    "\n",
    "print(str(score) + \"   \" + str(pvalue))"
   ]
  },
  {
   "cell_type": "code",
   "execution_count": 245,
   "metadata": {},
   "outputs": [
    {
     "name": "stdout",
     "output_type": "stream",
     "text": [
      "-2785599600952689.5   0.8281718281718282\n"
     ]
    }
   ],
   "source": [
    "score, permutation_scores, pvalue = pts(\n",
    "    ridgeReg, np.array(data['trafficSource.adwordsClickInfo.gclId']).reshape(-1,1), data['totals.transactionRevenue'], scoring=\"neg_mean_squared_error\", n_permutations=1000, n_jobs=1)\n",
    "\n",
    "print(str(score) + \"   \" + str(pvalue))"
   ]
  },
  {
   "cell_type": "code",
   "execution_count": 246,
   "metadata": {},
   "outputs": [
    {
     "name": "stdout",
     "output_type": "stream",
     "text": [
      "-2785471717670501.0   0.000999000999000999\n"
     ]
    }
   ],
   "source": [
    "score, permutation_scores, pvalue = pts(\n",
    "    ridgeReg, np.array(data['weekday']).reshape(-1,1), data['totals.transactionRevenue'], scoring=\"neg_mean_squared_error\", n_permutations=1000, n_jobs=1)\n",
    "\n",
    "print(str(score) + \"   \" + str(pvalue))"
   ]
  },
  {
   "cell_type": "code",
   "execution_count": 248,
   "metadata": {},
   "outputs": [
    {
     "name": "stdout",
     "output_type": "stream",
     "text": [
      "-2784001314579385.0   0.000999000999000999\n"
     ]
    }
   ],
   "source": [
    "score, permutation_scores, pvalue = pts(\n",
    "    ridgeReg, np.array(data['trafficSource.referralPath']).reshape(-1,1), data['totals.transactionRevenue'], scoring=\"neg_mean_squared_error\", n_permutations=1000, n_jobs=1)\n",
    "\n",
    "print(str(score) + \"   \" + str(pvalue))"
   ]
  },
  {
   "cell_type": "code",
   "execution_count": 290,
   "metadata": {},
   "outputs": [],
   "source": [
    "data = predData"
   ]
  },
  {
   "cell_type": "code",
   "execution_count": null,
   "metadata": {},
   "outputs": [],
   "source": [
    "cont0 = data[data['geoNetwork.continent'] == 0]\n",
    "cont1 = data[data['geoNetwork.continent'] == 1]\n",
    "cont2 = data[data['geoNetwork.continent'] == 2]\n",
    "cont3 = data[data['geoNetwork.continent'] == 3]\n",
    "cont4 = data[data['geoNetwork.continent'] == 4]\n",
    "cont5 = data[data['geoNetwork.continent'] == 5]"
   ]
  },
  {
   "cell_type": "code",
   "execution_count": 316,
   "metadata": {},
   "outputs": [
    {
     "data": {
      "image/png": "[encoded data removed]",
      "text/plain": [
       "<Figure size 1440x720 with 1 Axes>"
      ]
     },
     "metadata": {},
     "output_type": "display_data"
    }
   ],
   "source": [
    "plt.figure(figsize=(20,10))\n",
    "plt.scatter(cont0['pageView/hit'],np.log1p(cont0['totals.transactionRevenue']),color='brown',label='Unknown(not set)',marker='s')\n",
    "plt.scatter(cont1['pageView/hit'],np.log1p(cont1['totals.transactionRevenue']),color='blue',label='Africa',marker='X')\n",
    "plt.scatter(cont2['pageView/hit'],np.log1p(cont2['totals.transactionRevenue']),color='green',label='America',marker='.')\n",
    "plt.scatter(cont3['pageView/hit'],np.log1p(cont3['totals.transactionRevenue']),color='red',label='Asia')\n",
    "plt.scatter(cont4['pageView/hit'],np.log1p(cont4['totals.transactionRevenue']),color='pink',label='Europe',marker='H')\n",
    "plt.scatter(cont5['pageView/hit'],np.log1p(cont5['totals.transactionRevenue']),color='orange',label='Oceania',marker='D')\n",
    "plt.legend(numpoints=1)\n",
    "plt.xlabel(\"PageViews/Hit ratio\")\n",
    "plt.ylabel(\"Log Of transaction Revenue\")\n",
    "plt.title(\"Revenue and PageViews/Hit ratio for Continents\")\n",
    "plt.savefig('dotplot.png')\n",
    "\n"
   ]
  },
  {
   "cell_type": "code",
   "execution_count": 341,
   "metadata": {},
   "outputs": [
    {
     "data": {
      "text/plain": [
       "LinearRegression(copy_X=True, fit_intercept=True, n_jobs=1, normalize=False)"
      ]
     },
     "execution_count": 341,
     "metadata": {},
     "output_type": "execute_result"
    }
   ],
   "source": [
    "from sklearn.linear_model import LinearRegression\n",
    "probFeatures = ['visitNumber','totals.hits','totals.pageviews','pageView/hit','day','year']\n",
    "pdata = data\n",
    "y = np.log1p(data['totals.transactionRevenue'])\n",
    "model = LinearRegression()\n",
    "model.fit(pdata[probFeatures],y)"
   ]
  },
  {
   "cell_type": "code",
   "execution_count": 353,
   "metadata": {},
   "outputs": [],
   "source": [
    "diffMSE =[]\n",
    "for i in range(1000):\n",
    "    visits =pdata['visitNumber'].sample(frac=1).reset_index(drop=True)\n",
    "    pdata['visitNumber'] =pd.Series(visits)\n",
    "    predY = model.predict(pdata[probFeatures])\n",
    "    diff = mean_squared_error(y,predY)\n",
    "    diffMSE.append(diff)"
   ]
  },
  {
   "cell_type": "code",
   "execution_count": null,
   "metadata": {},
   "outputs": [],
   "source": []
  },
  {
   "cell_type": "code",
   "execution_count": 347,
   "metadata": {},
   "outputs": [
    {
     "data": {
      "text/plain": [
       "3.3419572906499164"
      ]
     },
     "execution_count": 347,
     "metadata": {},
     "output_type": "execute_result"
    }
   ],
   "source": [
    "yest = model.predict(pdata[probFeatures])\n",
    "diff = mean_squared_error(y,yest)\n",
    "diff"
   ]
  },
  {
   "cell_type": "code",
   "execution_count": 348,
   "metadata": {},
   "outputs": [
    {
     "data": {
      "image/png": "[encoded data removed]",
      "text/plain": [
       "<Figure size 720x288 with 1 Axes>"
      ]
     },
     "metadata": {},
     "output_type": "display_data"
    }
   ],
   "source": [
    "from matplotlib import pyplot as plt\n",
    "plt.figure(figsize=(10,4))\n",
    "n, bins, patches = plt.hist(x=diffMSE, bins=100,color='#0504aa')\n",
    "plt.axvline((np.array(diffMSE)).mean(), color='black', linewidth=5)\n",
    "plt.vlines(x=diff,ymin=0,ymax=30,color = 'red')\n",
    "plt.show()"
   ]
  },
  {
   "cell_type": "code",
   "execution_count": null,
   "metadata": {},
   "outputs": [],
   "source": []
  },
  {
   "cell_type": "code",
   "execution_count": 349,
   "metadata": {},
   "outputs": [],
   "source": [
    "diffMSE =[]\n",
    "for i in range(1000):\n",
    "    visits =pdata['day'].sample(frac=1).reset_index(drop=True)\n",
    "    pdata['day'] =pd.Series(visits)\n",
    "    predY = model.predict(pdata[probFeatures])\n",
    "    diff = mean_squared_error(y,predY)\n",
    "    diffMSE.append(diff)"
   ]
  },
  {
   "cell_type": "code",
   "execution_count": 350,
   "metadata": {},
   "outputs": [
    {
     "data": {
      "image/png": "[encoded data removed]",
      "text/plain": [
       "<Figure size 720x288 with 1 Axes>"
      ]
     },
     "metadata": {},
     "output_type": "display_data"
    }
   ],
   "source": [
    "from matplotlib import pyplot as plt\n",
    "plt.figure(figsize=(10,4))\n",
    "n, bins, patches = plt.hist(x=diffMSE, bins=100,color='#0504aa')\n",
    "plt.vlines(x=diff,ymin=0,ymax=30,color = 'red')\n",
    "plt.axvline((np.array(diffMSE)).mean(), color='black', linewidth=5)\n",
    "plt.show()"
   ]
  },
  {
   "cell_type": "code",
   "execution_count": 351,
   "metadata": {},
   "outputs": [],
   "source": [
    "diffMSE =[]\n",
    "for i in range(1000):\n",
    "    visits =pdata['pageView/hit'].sample(frac=1).reset_index(drop=True)\n",
    "    pdata['pageView/hit'] =pd.Series(visits)\n",
    "    predY = model.predict(pdata[probFeatures])\n",
    "    diff = mean_squared_error(y,predY)\n",
    "    diffMSE.append(diff)"
   ]
  },
  {
   "cell_type": "code",
   "execution_count": 352,
   "metadata": {},
   "outputs": [
    {
     "data": {
      "image/png": "[encoded data removed]",
      "text/plain": [
       "<Figure size 720x288 with 1 Axes>"
      ]
     },
     "metadata": {},
     "output_type": "display_data"
    }
   ],
   "source": [
    "from matplotlib import pyplot as plt\n",
    "plt.figure(figsize=(10,4))\n",
    "n, bins, patches = plt.hist(x=diffMSE, bins=100,color='#0504aa')\n",
    "plt.vlines(x=diff,ymin=0,ymax=30,color = 'red')\n",
    "plt.axvline((np.array(diffMSE)).mean(), color='black', linewidth=5)\n",
    "plt.show()"
   ]
  },
  {
   "cell_type": "code",
   "execution_count": null,
   "metadata": {},
   "outputs": [],
   "source": []
  }
 ],
 "metadata": {
  "kernelspec": {
   "display_name": "Python 3",
   "language": "python",
   "name": "python3"
  },
  "language_info": {
   "codemirror_mode": {
    "name": "ipython",
    "version": 3
   },
   "file_extension": ".py",
   "mimetype": "text/x-python",
   "name": "python",
   "nbconvert_exporter": "python",
   "pygments_lexer": "ipython3",
   "version": "3.6.5"
  }
 },
 "nbformat": 4,
 "nbformat_minor": 2
}
